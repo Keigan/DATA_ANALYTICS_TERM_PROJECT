{
 "cells": [
  {
   "cell_type": "markdown",
   "metadata": {},
   "source": [
    "## Term Project - CS329E"
   ]
  },
  {
   "cell_type": "markdown",
   "metadata": {},
   "source": [
    "### 1. Description"
   ]
  },
  {
   "cell_type": "markdown",
   "metadata": {},
   "source": [
    "The goal of this project assignment is to develop a data analytics project using a real-world\n",
    "dataset. Students should select a public dataset, think about a research project, for example,\n",
    "t-test, two-sample hypothesis tests, regression models, classification, clustering, or any data\n",
    "analytic task, implement the data model (using libraries or without libraries), evaluate, and\n",
    "interpret the results. You can apply more than one data model."
   ]
  },
  {
   "cell_type": "markdown",
   "metadata": {},
   "source": [
    "### 2. Public Dataset List"
   ]
  },
  {
   "cell_type": "markdown",
   "metadata": {},
   "source": [
    "Select a data set from the available public datasets.\n",
    "You can find a list of such public data sets here:\n",
    "http://www.teymourian.de/public-data-sets-for-data-analytic-projects/)\n",
    "    \n",
    "• The data set must not be very Large.\n",
    "\n",
    "• You can reuse one of the assignment data sets."
   ]
  },
  {
   "cell_type": "markdown",
   "metadata": {},
   "source": [
    "### 3. Define a Project (4 Points)"
   ]
  },
  {
   "cell_type": "markdown",
   "metadata": {},
   "source": [
    "Define a data science research question based on the selected dataset. You can select one of\n",
    "the listed datasets or search on the web, and pick up one of the available public datasets.\n",
    "You should describe the following items:"
   ]
  },
  {
   "cell_type": "markdown",
   "metadata": {},
   "source": [
    "1. What is your data set about?"
   ]
  },
  {
   "cell_type": "markdown",
   "metadata": {},
   "source": [
    "2. Clean up your data and reduce it to no more than 2000 observations if your data set is\n",
    "very large."
   ]
  },
  {
   "cell_type": "markdown",
   "metadata": {},
   "source": [
    "3. What is exactly your research question? What do you want to learn from data? What\n",
    "is your learning model ,e.g., a Classification, Clustering, etc?"
   ]
  },
  {
   "cell_type": "markdown",
   "metadata": {},
   "source": [
    "4. What is your current exception about the results?"
   ]
  },
  {
   "cell_type": "markdown",
   "metadata": {},
   "source": [
    "5. How do you want to evaluate your project? How to access the correctness of your\n",
    "model? How well would you expect that the model will work?"
   ]
  },
  {
   "cell_type": "markdown",
   "metadata": {},
   "source": [
    "### 4 Implementation (6 Points)"
   ]
  },
  {
   "cell_type": "markdown",
   "metadata": {},
   "source": [
    "• You need to implement your project in python. You are allowed to use any Machine\n",
    "Learning Library like scikit-learn1. You are also allowed to implement your project\n",
    "without using any libraries.\n",
    "\n",
    "• You can use Jupyter Notebooks to implement your project and provide your documen-\n",
    "tations.\n",
    "\n",
    "• You code should be completed and be compilable without any errors. We should be\n",
    "able to read your documents, and be able to run your project.\n",
    "\n",
    "• Run your implementation (on your Laptop or on Cluster if data is large) and generate\n",
    "the results.\n",
    "• Provide the interpretations of your results.\n",
    "• What can you do to improve your results? Apply your ideas to improve your results.\n",
    "• Provide any references that you have used."
   ]
  },
  {
   "cell_type": "markdown",
   "metadata": {},
   "source": [
    "### 5 Create Recorded Presentation Video of your Project (5 Points)"
   ]
  },
  {
   "cell_type": "markdown",
   "metadata": {},
   "source": [
    "• Create a document or a presentation (You can create a presentation using your Jupyter\n",
    "notebook, or create a powerpoint presentation, or other formats) to describe your\n",
    "project and results\n",
    "\n",
    "• Describe your code.\n",
    "\n",
    "• Describe the results of your project in a professional way.\n",
    "\n",
    "• You may want to visualization diagrams and describe the results based on some dia-\n",
    "grams - but having diagrams is not a MUST have to get the full credit.\n",
    "\n",
    "• Describe the model and results of your project in a way that every person in this field\n",
    "can read, enjoy and understand.\n",
    "Record your presentation in form of a video recording. Present your talk on your laptop\n",
    "computer and record it using a desktop recording software.\n",
    "You should use your webcam so that we can identify who is presenter.\n",
    "You have the following 3 options to create a presentation video:\n",
    "\n",
    "• Method 1: You can use the Panopto Deskop Recorder. You can find this software\n",
    "and documentations here https://www.panopto.com/.\n",
    "\n",
    "• Method 2: You can record your presentation using ZOOM client application, start\n",
    "your zoom client, start a zoom meeting (you will be the only participant), click on\n",
    "share your desktop, turn on camera and record your presentation, end the zoom session\n",
    "and you will get a MP4 video file of your presentation. Upload the file to Blackboard\n",
    "system.\n",
    "\n",
    "• Method 3: Alternatively, you can use any desktop recording software, generate a MP4\n",
    "file and upload MP4 to blackboard, or upload it to some other cloud storage (like google\n",
    "Drive, DropBox) and share with us the URL Link of your presentation (submit the link\n",
    "in Blackboard).\n",
    "\n",
    "Note 1: Your video presentation should be between 8 minutes to maximum 15 minutes\n",
    "long (Min 8 mi, Max 15 min)\n",
    "\n",
    "Note 2: You should turn on your Web Camera so that we can see your face during the\n",
    "presentation, and be able to identify the presenter.\n",
    "Grading will be based on quality of your presentation, and correct describing of algorithms\n",
    "or concepts."
   ]
  },
  {
   "cell_type": "code",
   "execution_count": 113,
   "metadata": {},
   "outputs": [],
   "source": [
    "import pandas as pd\n",
    "import numpy as np\n",
    "import matplotlib.pyplot as plt\n",
    "from sklearn.model_selection import train_test_split\n",
    "from sklearn import svm\n",
    "from sklearn.linear_model import LogisticRegression\n",
    "from sklearn.metrics import accuracy_score\n",
    "from sklearn.metrics import classification_report\n",
    "\n",
    "# Enable inline mode for matplotlib so that Jupyter displays graphs\n",
    "%matplotlib inline"
   ]
  },
  {
   "cell_type": "code",
   "execution_count": 114,
   "metadata": {},
   "outputs": [
    {
     "data": {
      "text/html": [
       "<div>\n",
       "<style scoped>\n",
       "    .dataframe tbody tr th:only-of-type {\n",
       "        vertical-align: middle;\n",
       "    }\n",
       "\n",
       "    .dataframe tbody tr th {\n",
       "        vertical-align: top;\n",
       "    }\n",
       "\n",
       "    .dataframe thead th {\n",
       "        text-align: right;\n",
       "    }\n",
       "</style>\n",
       "<table border=\"1\" class=\"dataframe\">\n",
       "  <thead>\n",
       "    <tr style=\"text-align: right;\">\n",
       "      <th></th>\n",
       "      <th>ev_id</th>\n",
       "      <th>crew_age</th>\n",
       "      <th>crew_inj_level</th>\n",
       "      <th>flight_hours</th>\n",
       "    </tr>\n",
       "  </thead>\n",
       "  <tbody>\n",
       "    <tr>\n",
       "      <th>0</th>\n",
       "      <td>20080514X00667</td>\n",
       "      <td>54</td>\n",
       "      <td>0</td>\n",
       "      <td>14500.0</td>\n",
       "    </tr>\n",
       "    <tr>\n",
       "      <th>1</th>\n",
       "      <td>20080312X00305</td>\n",
       "      <td>42</td>\n",
       "      <td>0</td>\n",
       "      <td>10000.0</td>\n",
       "    </tr>\n",
       "    <tr>\n",
       "      <th>2</th>\n",
       "      <td>20080827X01333</td>\n",
       "      <td>56</td>\n",
       "      <td>3</td>\n",
       "      <td>1200.0</td>\n",
       "    </tr>\n",
       "    <tr>\n",
       "      <th>3</th>\n",
       "      <td>20090526X53909</td>\n",
       "      <td>61</td>\n",
       "      <td>1</td>\n",
       "      <td>367.0</td>\n",
       "    </tr>\n",
       "    <tr>\n",
       "      <th>4</th>\n",
       "      <td>20090718X25941</td>\n",
       "      <td>65</td>\n",
       "      <td>0</td>\n",
       "      <td>1.0</td>\n",
       "    </tr>\n",
       "    <tr>\n",
       "      <th>...</th>\n",
       "      <td>...</td>\n",
       "      <td>...</td>\n",
       "      <td>...</td>\n",
       "      <td>...</td>\n",
       "    </tr>\n",
       "    <tr>\n",
       "      <th>8420</th>\n",
       "      <td>20200921X72553</td>\n",
       "      <td>70</td>\n",
       "      <td>1</td>\n",
       "      <td>7.9</td>\n",
       "    </tr>\n",
       "    <tr>\n",
       "      <th>8421</th>\n",
       "      <td>20200921X15712</td>\n",
       "      <td>61</td>\n",
       "      <td>0</td>\n",
       "      <td>0.0</td>\n",
       "    </tr>\n",
       "    <tr>\n",
       "      <th>8422</th>\n",
       "      <td>20200922X34530</td>\n",
       "      <td>46</td>\n",
       "      <td>0</td>\n",
       "      <td>1900.0</td>\n",
       "    </tr>\n",
       "    <tr>\n",
       "      <th>8423</th>\n",
       "      <td>20200922X90108</td>\n",
       "      <td>74</td>\n",
       "      <td>0</td>\n",
       "      <td>650.0</td>\n",
       "    </tr>\n",
       "    <tr>\n",
       "      <th>8424</th>\n",
       "      <td>20200923X30413</td>\n",
       "      <td>62</td>\n",
       "      <td>0</td>\n",
       "      <td>318.0</td>\n",
       "    </tr>\n",
       "  </tbody>\n",
       "</table>\n",
       "<p>8425 rows × 4 columns</p>\n",
       "</div>"
      ],
      "text/plain": [
       "               ev_id  crew_age  crew_inj_level  flight_hours\n",
       "0     20080514X00667        54               0       14500.0\n",
       "1     20080312X00305        42               0       10000.0\n",
       "2     20080827X01333        56               3        1200.0\n",
       "3     20090526X53909        61               1         367.0\n",
       "4     20090718X25941        65               0           1.0\n",
       "...              ...       ...             ...           ...\n",
       "8420  20200921X72553        70               1           7.9\n",
       "8421  20200921X15712        61               0           0.0\n",
       "8422  20200922X34530        46               0        1900.0\n",
       "8423  20200922X90108        74               0         650.0\n",
       "8424  20200923X30413        62               0         318.0\n",
       "\n",
       "[8425 rows x 4 columns]"
      ]
     },
     "execution_count": 114,
     "metadata": {},
     "output_type": "execute_result"
    }
   ],
   "source": [
    "# loading in our crash data\n",
    "crash_df = pd.read_csv('crash_Dataset.csv')\n",
    "crash_df"
   ]
  },
  {
   "cell_type": "code",
   "execution_count": 115,
   "metadata": {},
   "outputs": [],
   "source": [
    "# Implementation of SVM without Libraries"
   ]
  },
  {
   "cell_type": "code",
   "execution_count": 116,
   "metadata": {},
   "outputs": [],
   "source": [
    "# splitting into features and targets, X and Y respectively\n",
    "X = crash_df[['crew_age', 'flight_hours']]\n",
    "Y = crash_df['crew_inj_level']\n",
    "\n",
    "# splitting the data into testing and training sets\n",
    "X_train, X_test, Y_train, Y_test = train_test_split(X, Y, test_size=0.2, random_state=0)\n",
    "\n",
    "# re-indexing in dataframe\n",
    "X_train = X_train.reset_index(drop=True)\n",
    "Y_train = Y_train.reset_index(drop=True)"
   ]
  },
  {
   "cell_type": "code",
   "execution_count": 117,
   "metadata": {},
   "outputs": [],
   "source": [
    "def compute_cost(X, y, W, regularization_factor):\n",
    "    '''This function calculate the hinge loss. Primal Problem in SVM'''\n",
    "    n = X.shape[0]\n",
    "    distances = 1 - y * (np.dot(X, W))\n",
    "    \n",
    "    # This is our max(0, distance). \n",
    "    distances[distances < 0] = 0 \n",
    "    \n",
    "    hinge_loss = regularization_factor * (np.sum(distances) / n)\n",
    "    # This divide by 2 is not important. You can skip doing it \n",
    "    # because we want only to check if this cost is going down or not. \n",
    "    return (1 / 2 * np.dot(W, W) + hinge_loss)"
   ]
  },
  {
   "cell_type": "code",
   "execution_count": 118,
   "metadata": {},
   "outputs": [],
   "source": [
    "def calculate_gradient(X, y, W, regularization_factor):\n",
    "      \n",
    "    if type(y) == np.float64:\n",
    "        y = np.array([y])\n",
    "        X = np.array([X])\n",
    "        \n",
    "    distance = 1 - (y * np.dot(X, W))\n",
    "    \n",
    "    dw = np.zeros(len(W))\n",
    "    \n",
    "    for ind, d in enumerate(distance):\n",
    "        \n",
    "        if (d < 0):\n",
    "            di = W\n",
    "        else:\n",
    "            di = W - (regularization_factor * y[ind] * X.loc[ind])\n",
    "            \n",
    "            \n",
    "        dw += di\n",
    "    \n",
    "    dw = dw/len(y)  # average\n",
    "    \n",
    "    return dw"
   ]
  },
  {
   "cell_type": "code",
   "execution_count": 119,
   "metadata": {},
   "outputs": [],
   "source": [
    "# adding column of ones for matrix multiplication (dot product)\n",
    "x_0 = [1]*len(X_train)\n",
    "X_train['x_0'] = x_0\n",
    "X_train = X_train[['x_0', 'crew_age', 'flight_hours']]\n",
    "\n",
    "x_01 = [1]*len(X_test)\n",
    "X_test['x_0'] = x_01\n",
    "X_test = X_test[['x_0', 'crew_age', 'flight_hours']]\n",
    "\n",
    "# same length as previous matrices\n",
    "weights = np.zeros(3)"
   ]
  },
  {
   "cell_type": "code",
   "execution_count": 120,
   "metadata": {},
   "outputs": [
    {
     "name": "stdout",
     "output_type": "stream",
     "text": [
      "Epoch 0 Cost is: 0.01 \n",
      " Weights:\n",
      " [0. 0. 0.] \n",
      "\n",
      "Epoch 1 Cost is: 0.007682780191710594 \n",
      " Weights:\n",
      " x_0             0.000000\n",
      "crew_age        0.000493\n",
      "flight_hours    0.020964\n",
      "Name: 0, dtype: float64 \n",
      "\n",
      "Epoch 2 Cost is: 0.0076416222731122505 \n",
      " Weights:\n",
      " x_0             0.000000\n",
      "crew_age        0.000696\n",
      "flight_hours    0.020958\n",
      "Name: 0, dtype: float64 \n",
      "\n",
      "Epoch 3 Cost is: 0.007600901488559332 \n",
      " Weights:\n",
      " x_0             0.000000\n",
      "crew_age        0.000898\n",
      "flight_hours    0.020952\n",
      "Name: 0, dtype: float64 \n",
      "\n",
      "Epoch 4 Cost is: 0.007560505908156688 \n",
      " Weights:\n",
      " x_0             0.000000\n",
      "crew_age        0.001099\n",
      "flight_hours    0.020946\n",
      "Name: 0, dtype: float64 \n",
      "\n",
      "Epoch 5 Cost is: 0.007520667076586572 \n",
      " Weights:\n",
      " x_0             0.000000\n",
      "crew_age        0.001299\n",
      "flight_hours    0.020939\n",
      "Name: 0, dtype: float64 \n",
      "\n",
      "Epoch 6 Cost is: 0.007481521009442917 \n",
      " Weights:\n",
      " x_0             0.000000\n",
      "crew_age        0.001497\n",
      "flight_hours    0.020932\n",
      "Name: 0, dtype: float64 \n",
      "\n",
      "Epoch 7 Cost is: 0.007442669275005637 \n",
      " Weights:\n",
      " x_0             0.000000\n",
      "crew_age        0.001695\n",
      "flight_hours    0.020925\n",
      "Name: 0, dtype: float64 \n",
      "\n",
      "Epoch 8 Cost is: 0.007404399782160998 \n",
      " Weights:\n",
      " x_0             0.000000\n",
      "crew_age        0.001890\n",
      "flight_hours    0.020918\n",
      "Name: 0, dtype: float64 \n",
      "\n",
      "Epoch 9 Cost is: 0.0073666464037072995 \n",
      " Weights:\n",
      " x_0             0.000000\n",
      "crew_age        0.002085\n",
      "flight_hours    0.020910\n",
      "Name: 0, dtype: float64 \n",
      "\n"
     ]
    }
   ],
   "source": [
    "# Now we optimize it using Gradient Descent. \n",
    "num_iterations = 10\n",
    "learning_rate = 0.001\n",
    "\n",
    "regularization = 0.01\n",
    "\n",
    "cost_list = []\n",
    "\n",
    "for i in range(0, num_iterations):\n",
    "    \n",
    "    # current iteration cost\n",
    "    cost = compute_cost(X_train, Y_train, weights, regularization)\n",
    "    \n",
    "    print(\"Epoch\", i, \"Cost is:\", cost, \"\\n\", \"Weights:\\n\", weights, \"\\n\")\n",
    "    \n",
    "    # appending current iteration cost\n",
    "    cost_list.append(cost)\n",
    "    \n",
    "    # gradient descent (optimization)\n",
    "    grad = calculate_gradient(X_train, Y_train, weights, regularization)\n",
    "    \n",
    "    # updating the weights\n",
    "    weights = weights - learning_rate * grad"
   ]
  },
  {
   "cell_type": "code",
   "execution_count": 121,
   "metadata": {},
   "outputs": [
    {
     "data": {
      "image/png": "[encoded data removed]",
      "text/plain": [
       "<Figure size 432x288 with 1 Axes>"
      ]
     },
     "metadata": {
      "needs_background": "light"
     },
     "output_type": "display_data"
    }
   ],
   "source": [
    "# plot cost per iteration\n",
    "plt.plot(np.arange(num_iterations), cost_list)\n",
    "plt.show()"
   ]
  },
  {
   "cell_type": "code",
   "execution_count": 122,
   "metadata": {},
   "outputs": [],
   "source": [
    "def predict_svm(weights, X):\n",
    "    \"\"\"\n",
    "    Predict the class between 0 and 1 using learned SVM parameters weights.\n",
    "    \"\"\"    \n",
    "    return np.where(np.dot(X, weights)<0, -1, 1)"
   ]
  },
  {
   "cell_type": "code",
   "execution_count": 123,
   "metadata": {},
   "outputs": [
    {
     "name": "stdout",
     "output_type": "stream",
     "text": [
      "Accuracy Score: 0.1566765578635015\n",
      "              precision    recall  f1-score   support\n",
      "\n",
      "           0       0.00      0.00      0.00       959\n",
      "           1       0.16      1.00      0.27       264\n",
      "           2       0.00      0.00      0.00       163\n",
      "           3       0.00      0.00      0.00       299\n",
      "\n",
      "    accuracy                           0.16      1685\n",
      "   macro avg       0.04      0.25      0.07      1685\n",
      "weighted avg       0.02      0.16      0.04      1685\n",
      "\n"
     ]
    },
    {
     "name": "stderr",
     "output_type": "stream",
     "text": [
      "C:\\Users\\joshu\\AppData\\Local\\Packages\\PythonSoftwareFoundation.Python.3.8_qbz5n2kfra8p0\\LocalCache\\local-packages\\Python38\\site-packages\\sklearn\\metrics\\_classification.py:1308: UndefinedMetricWarning: Precision and F-score are ill-defined and being set to 0.0 in labels with no predicted samples. Use `zero_division` parameter to control this behavior.\n",
      "  _warn_prf(average, modifier, msg_start, len(result))\n",
      "C:\\Users\\joshu\\AppData\\Local\\Packages\\PythonSoftwareFoundation.Python.3.8_qbz5n2kfra8p0\\LocalCache\\local-packages\\Python38\\site-packages\\sklearn\\metrics\\_classification.py:1308: UndefinedMetricWarning: Precision and F-score are ill-defined and being set to 0.0 in labels with no predicted samples. Use `zero_division` parameter to control this behavior.\n",
      "  _warn_prf(average, modifier, msg_start, len(result))\n",
      "C:\\Users\\joshu\\AppData\\Local\\Packages\\PythonSoftwareFoundation.Python.3.8_qbz5n2kfra8p0\\LocalCache\\local-packages\\Python38\\site-packages\\sklearn\\metrics\\_classification.py:1308: UndefinedMetricWarning: Precision and F-score are ill-defined and being set to 0.0 in labels with no predicted samples. Use `zero_division` parameter to control this behavior.\n",
      "  _warn_prf(average, modifier, msg_start, len(result))\n"
     ]
    }
   ],
   "source": [
    "svm_predict = predict_svm(weights, X_test)\n",
    "\n",
    "print(\"Accuracy Score:\", accuracy_score(Y_test, svm_predict))\n",
    "\n",
    "print(classification_report(Y_test, svm_predict))"
   ]
  },
  {
   "cell_type": "markdown",
   "metadata": {},
   "source": [
    "# Implementation of SVM using Libraries"
   ]
  },
  {
   "cell_type": "code",
   "execution_count": 124,
   "metadata": {},
   "outputs": [],
   "source": [
    "model = svm.SVC()\n",
    "model.fit(X_train, Y_train)\n",
    "\n",
    "y_pred = model.predict(X_test)"
   ]
  },
  {
   "cell_type": "code",
   "execution_count": 125,
   "metadata": {},
   "outputs": [
    {
     "name": "stdout",
     "output_type": "stream",
     "text": [
      "Accuracy Score: 0.5768545994065282 \n",
      "\n",
      "              precision    recall  f1-score   support\n",
      "\n",
      "           0       0.58      0.98      0.73       959\n",
      "           1       0.00      0.00      0.00       264\n",
      "           2       0.00      0.00      0.00       163\n",
      "           3       0.53      0.10      0.16       299\n",
      "\n",
      "    accuracy                           0.58      1685\n",
      "   macro avg       0.28      0.27      0.22      1685\n",
      "weighted avg       0.42      0.58      0.44      1685\n",
      "\n"
     ]
    },
    {
     "name": "stderr",
     "output_type": "stream",
     "text": [
      "C:\\Users\\joshu\\AppData\\Local\\Packages\\PythonSoftwareFoundation.Python.3.8_qbz5n2kfra8p0\\LocalCache\\local-packages\\Python38\\site-packages\\sklearn\\metrics\\_classification.py:1308: UndefinedMetricWarning: Precision and F-score are ill-defined and being set to 0.0 in labels with no predicted samples. Use `zero_division` parameter to control this behavior.\n",
      "  _warn_prf(average, modifier, msg_start, len(result))\n",
      "C:\\Users\\joshu\\AppData\\Local\\Packages\\PythonSoftwareFoundation.Python.3.8_qbz5n2kfra8p0\\LocalCache\\local-packages\\Python38\\site-packages\\sklearn\\metrics\\_classification.py:1308: UndefinedMetricWarning: Precision and F-score are ill-defined and being set to 0.0 in labels with no predicted samples. Use `zero_division` parameter to control this behavior.\n",
      "  _warn_prf(average, modifier, msg_start, len(result))\n",
      "C:\\Users\\joshu\\AppData\\Local\\Packages\\PythonSoftwareFoundation.Python.3.8_qbz5n2kfra8p0\\LocalCache\\local-packages\\Python38\\site-packages\\sklearn\\metrics\\_classification.py:1308: UndefinedMetricWarning: Precision and F-score are ill-defined and being set to 0.0 in labels with no predicted samples. Use `zero_division` parameter to control this behavior.\n",
      "  _warn_prf(average, modifier, msg_start, len(result))\n"
     ]
    }
   ],
   "source": [
    "print(\"Accuracy Score:\", accuracy_score(Y_test, y_pred), \"\\n\")\n",
    "\n",
    "print(classification_report(Y_test, y_pred))"
   ]
  }
 ],
 "metadata": {
  "kernelspec": {
   "display_name": "Python 3",
   "language": "python",
   "name": "python3"
  },
  "language_info": {
   "codemirror_mode": {
    "name": "ipython",
    "version": 3
   },
   "file_extension": ".py",
   "mimetype": "text/x-python",
   "name": "python",
   "nbconvert_exporter": "python",
   "pygments_lexer": "ipython3",
   "version": "3.8.10"
  }
 },
 "nbformat": 4,
 "nbformat_minor": 2
}
