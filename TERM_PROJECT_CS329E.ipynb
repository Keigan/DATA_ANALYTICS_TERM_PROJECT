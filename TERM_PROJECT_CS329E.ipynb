{
 "cells": [
  {
   "cell_type": "markdown",
   "metadata": {},
   "source": [
    "# Term Project - CS329E\n",
    "#### University Of Texas at Austin\n",
    "#### 30 November 2021 \n",
    "###### Contributors: Keigan Kincaid  and Joshua Oh "
   ]
  },
  {
   "cell_type": "markdown",
   "metadata": {},
   "source": [
    "### Are young inexperienced pilots more likely to cause from fatal or severe injury in fixed wing general aviation aircraft incidents as opposed to there older more experienced counter parts?"
   ]
  },
  {
   "attachments": {},
   "cell_type": "markdown",
   "metadata": {},
   "source": [
    "#### What is our dataset about?\n",
    "\n",
    "The NTSB aviation accident database contains information from 1962 and later about civil aviation accidents and selected incidents within the United States, its territories, and possessions, and in international waters. \n",
    "\n",
    "A preliminary report is available online within a few days of an accident. Information is added when available, and when the investigation is completed, the preliminary report is replaced with a final description of the accident and its probable cause. The dataset is updated monthly in Microsoft Access 2000 MDB format. \n",
    "\n",
    "For this project we decided to use a version of the dataset only including incidents from 2008 to the Present. Our decision for this was largely because the datasets before 2008 did not distinguish whether the event represented the pilot controlling the aircraft at the time or whether the event index was associate with co-pilots, crew, or passengers’ injuries or related statistics.\n",
    "\n",
    "To appropriately address our research question and reduce our sample size from over 100,000 events to around 8000. The dataset was originally cleaned via Excel in the Microsoft Access 2000 MDB format. From there we selected the appropriate variables and compiled them into a single Excel file where we were able to remove repeats, and null values. Finally, we saved this subset of the original Microsoft Access Database in a CSV format.\n"
   ]
  },
  {
   "attachments": {},
   "cell_type": "markdown",
   "metadata": {},
   "source": [
    "#### Information Regarding Data Cleaning\n",
    "\n",
    "As our dataset was around 8000 observations, we utilized a sample of 2000 observations. Then split this sample into an 80 / 20 split to test and train our classifiers."
   ]
  },
  {
   "attachments": {},
   "cell_type": "markdown",
   "metadata": {},
   "source": [
    "#### Research question, What we hope to learn from data, and Learning model Implemented\n",
    "\n",
    "Research Question: Are young inexperienced pilots more likely to cause from fatal or severe injury in fixed wing general aviation aircraft incidents as oppsed to there older more experienced counter parts?\n",
    "\n",
    "In the study we hope to create a model that can classify injury level based upon pilot age, measured in years of age, and experienced, measured in hours actively piloting an aircraft.\n",
    "\n",
    "It is important to note that flight hours are measured by the number of hours a plane has been operating an aircraft, which is kept in a log and verified in annual inspections by a third party in part to ensure the airworthiness of the vehicle, as well as its pilot. Further hours may be logged while completing training exercises as a co-pilot or with guided instruction for a CFI (Certified Flight Instructor.) \n",
    "\n",
    "Time logged in simulators or ground school are not included in pilot flight hours. In this study we are looking to use an industry standard classifier called an SVM to help predict pilot crash severity. The three classifiers we will be using are SVM using Sci-kit Learn, SVM SVC Linear Regression, and a Gradient Descent and Hinge Loss function without using libraries."
   ]
  },
  {
   "attachments": {},
   "cell_type": "markdown",
   "metadata": {},
   "source": [
    "#### Expectations Regarding Results Prior to Study\n",
    "\n",
    "Generally, we expect that younger pilots with less hours will be more reckless than those with more experience and more time in the cockpit. This inexperience is a key factor in why we believe these pilots will be responsible for a larger portion of fixed wing aviation incidents."
   ]
  },
  {
   "attachments": {},
   "cell_type": "markdown",
   "metadata": {},
   "source": [
    "#### How we would like our project to be evaluated, How to assess correctness of our models, Thoughts on our models success prior to study\n",
    "\n",
    "It is important to consider that we are only using two features to classify these events. That being Flight Hours and Age. There are many more features that play a part in aviation incidents which could be considered more direct correlations and indications of aviation incidents.\n",
    "\n",
    "We expect the model to do better than random chance, that is 51% or better. I do not expect there to be a large difference in the implementations, however I do believe the data is not perfect so for future research it would be important to compare models that have the highest probability of predicting outcomes as well as including more features that will improve odds of correctness without blatantly representing outcomes such as engine failure, severe weather conditions, or drug / alcohol use."
   ]
  },
  {
   "cell_type": "markdown",
   "metadata": {},
   "source": [
    "#### Results\n",
    "\n",
    "Our final results show that with the standard Sci-Kit Learn SVM we have an accurary > 50%, our Sci-Kit Learn Linear SVM has an accurary of >50%, and lastly our SVM with No Libraries struggles to reach a score over 10-15%."
   ]
  },
  {
   "cell_type": "markdown",
   "metadata": {},
   "source": [
    "#### What can you do to improve your results? What are limitations of your implementations or dataset?\n",
    "\n",
    "I believe cleaning and analysising the data would improve the results. I believe their are outliners in the data that is preventing the SVM from performing better, further there are limited amount of features that we used which give the classifier little data points to make predictions from."
   ]
  },
  {
   "cell_type": "markdown",
   "metadata": {},
   "source": [
    "#### Ideas Applied to improve results:\n",
    "\n",
    "One idea we used was adding an empty feature adding a column of ones. In the SVM typically more features will improve hte results. This had limited impact on the preformance."
   ]
  },
  {
   "cell_type": "markdown",
   "metadata": {},
   "source": [
    "#### Describe Code and Implementations:\n",
    "\n",
    "We have taken the time to comment our code extensively so that you may understand in a human readable format what each component is doing and the concepts behind it."
   ]
  },
  {
   "cell_type": "markdown",
   "metadata": {},
   "source": [
    "#### References: \n",
    "\n",
    "NTSB Aviation Accident Database:\n",
    "https://data.ntsb.gov/avdata"
   ]
  },
  {
   "cell_type": "code",
   "execution_count": 102,
   "metadata": {},
   "outputs": [],
   "source": [
    "import pandas as pd\n",
    "import numpy as np\n",
    "import matplotlib.pyplot as plt\n",
    "from sklearn.model_selection import train_test_split\n",
    "from sklearn import svm\n",
    "from sklearn.linear_model import LogisticRegression\n",
    "from sklearn.metrics import accuracy_score\n",
    "from sklearn.metrics import classification_report\n",
    "from sklearn.utils import shuffle\n",
    "\n",
    "# Enable inline mode for matplotlib so that Jupyter displays graphs\n",
    "%matplotlib inline"
   ]
  },
  {
   "cell_type": "code",
   "execution_count": 103,
   "metadata": {},
   "outputs": [],
   "source": [
    "# loading in our crash data then shuffle the dataset so that it is difference each time we run the code\n",
    "crash_df_raw = pd.read_csv('crash_Dataset.csv')\n",
    "\n",
    "# Optional shuffle feature for testing\n",
    "# crash_df_raw = shuffle(crash_df_raw)"
   ]
  },
  {
   "cell_type": "code",
   "execution_count": 104,
   "metadata": {},
   "outputs": [
    {
     "data": {
      "text/html": [
       "<div>\n",
       "<style scoped>\n",
       "    .dataframe tbody tr th:only-of-type {\n",
       "        vertical-align: middle;\n",
       "    }\n",
       "\n",
       "    .dataframe tbody tr th {\n",
       "        vertical-align: top;\n",
       "    }\n",
       "\n",
       "    .dataframe thead th {\n",
       "        text-align: right;\n",
       "    }\n",
       "</style>\n",
       "<table border=\"1\" class=\"dataframe\">\n",
       "  <thead>\n",
       "    <tr style=\"text-align: right;\">\n",
       "      <th></th>\n",
       "      <th>ev_id</th>\n",
       "      <th>crew_age</th>\n",
       "      <th>crew_inj_level</th>\n",
       "      <th>flight_hours</th>\n",
       "    </tr>\n",
       "  </thead>\n",
       "  <tbody>\n",
       "    <tr>\n",
       "      <th>0</th>\n",
       "      <td>20080514X00667</td>\n",
       "      <td>54</td>\n",
       "      <td>0</td>\n",
       "      <td>14500.0</td>\n",
       "    </tr>\n",
       "    <tr>\n",
       "      <th>1</th>\n",
       "      <td>20080312X00305</td>\n",
       "      <td>42</td>\n",
       "      <td>0</td>\n",
       "      <td>10000.0</td>\n",
       "    </tr>\n",
       "    <tr>\n",
       "      <th>2</th>\n",
       "      <td>20080827X01333</td>\n",
       "      <td>56</td>\n",
       "      <td>3</td>\n",
       "      <td>1200.0</td>\n",
       "    </tr>\n",
       "    <tr>\n",
       "      <th>3</th>\n",
       "      <td>20090526X53909</td>\n",
       "      <td>61</td>\n",
       "      <td>1</td>\n",
       "      <td>367.0</td>\n",
       "    </tr>\n",
       "    <tr>\n",
       "      <th>4</th>\n",
       "      <td>20090718X25941</td>\n",
       "      <td>65</td>\n",
       "      <td>0</td>\n",
       "      <td>1.0</td>\n",
       "    </tr>\n",
       "    <tr>\n",
       "      <th>...</th>\n",
       "      <td>...</td>\n",
       "      <td>...</td>\n",
       "      <td>...</td>\n",
       "      <td>...</td>\n",
       "    </tr>\n",
       "    <tr>\n",
       "      <th>1995</th>\n",
       "      <td>20140807X41115</td>\n",
       "      <td>44</td>\n",
       "      <td>0</td>\n",
       "      <td>1.0</td>\n",
       "    </tr>\n",
       "    <tr>\n",
       "      <th>1996</th>\n",
       "      <td>20140807X52333</td>\n",
       "      <td>59</td>\n",
       "      <td>0</td>\n",
       "      <td>10.0</td>\n",
       "    </tr>\n",
       "    <tr>\n",
       "      <th>1997</th>\n",
       "      <td>20140807X65826</td>\n",
       "      <td>47</td>\n",
       "      <td>1</td>\n",
       "      <td>0.0</td>\n",
       "    </tr>\n",
       "    <tr>\n",
       "      <th>1998</th>\n",
       "      <td>20140807X92309</td>\n",
       "      <td>70</td>\n",
       "      <td>2</td>\n",
       "      <td>9.0</td>\n",
       "    </tr>\n",
       "    <tr>\n",
       "      <th>1999</th>\n",
       "      <td>20140808X20527</td>\n",
       "      <td>71</td>\n",
       "      <td>1</td>\n",
       "      <td>1.0</td>\n",
       "    </tr>\n",
       "  </tbody>\n",
       "</table>\n",
       "<p>2000 rows × 4 columns</p>\n",
       "</div>"
      ],
      "text/plain": [
       "               ev_id  crew_age  crew_inj_level  flight_hours\n",
       "0     20080514X00667        54               0       14500.0\n",
       "1     20080312X00305        42               0       10000.0\n",
       "2     20080827X01333        56               3        1200.0\n",
       "3     20090526X53909        61               1         367.0\n",
       "4     20090718X25941        65               0           1.0\n",
       "...              ...       ...             ...           ...\n",
       "1995  20140807X41115        44               0           1.0\n",
       "1996  20140807X52333        59               0          10.0\n",
       "1997  20140807X65826        47               1           0.0\n",
       "1998  20140807X92309        70               2           9.0\n",
       "1999  20140808X20527        71               1           1.0\n",
       "\n",
       "[2000 rows x 4 columns]"
      ]
     },
     "execution_count": 104,
     "metadata": {},
     "output_type": "execute_result"
    }
   ],
   "source": [
    "# taking the first 2000 observations from the shuffled dataset\n",
    "crash_df = crash_df_raw.head(n=2000)\n",
    "crash_df"
   ]
  },
  {
   "cell_type": "code",
   "execution_count": 105,
   "metadata": {},
   "outputs": [
    {
     "name": "stdout",
     "output_type": "stream",
     "text": [
      "(1500, 2)\n",
      "(1500,)\n",
      "(500, 2)\n",
      "(500,)\n"
     ]
    }
   ],
   "source": [
    "# splitting into features and targets, X and Y respectively\n",
    "X = crash_df[['crew_age', 'flight_hours']]\n",
    "Y = crash_df['crew_inj_level']\n",
    "\n",
    "# splitting the data into testing and training sets\n",
    "X_train, X_test, Y_train, Y_test = train_test_split(X, Y, test_size=0.25, random_state=512)\n",
    "\n",
    "# re-indexing in dataframe\n",
    "X_train = X_train.reset_index(drop=True)\n",
    "Y_train = Y_train.reset_index(drop=True)\n",
    "\n",
    "# printing shapes of Target training and test data\n",
    "print(X_train.shape)\n",
    "print(Y_train.shape)\n",
    "print(X_test.shape)\n",
    "print(Y_test.shape)"
   ]
  },
  {
   "cell_type": "markdown",
   "metadata": {},
   "source": [
    "## Logistic Regression"
   ]
  },
  {
   "cell_type": "code",
   "execution_count": 106,
   "metadata": {},
   "outputs": [
    {
     "name": "stdout",
     "output_type": "stream",
     "text": [
      "Accuracy Score: 0.508 \n",
      "\n",
      "              precision    recall  f1-score   support\n",
      "\n",
      "           0       0.51      0.98      0.67       253\n",
      "           1       0.00      0.00      0.00        53\n",
      "           2       0.00      0.00      0.00        58\n",
      "           3       0.44      0.05      0.09       136\n",
      "\n",
      "    accuracy                           0.51       500\n",
      "   macro avg       0.24      0.26      0.19       500\n",
      "weighted avg       0.38      0.51      0.36       500\n",
      "\n"
     ]
    },
    {
     "name": "stderr",
     "output_type": "stream",
     "text": [
      "C:\\Users\\joshu\\AppData\\Local\\Packages\\PythonSoftwareFoundation.Python.3.8_qbz5n2kfra8p0\\LocalCache\\local-packages\\Python38\\site-packages\\sklearn\\metrics\\_classification.py:1308: UndefinedMetricWarning: Precision and F-score are ill-defined and being set to 0.0 in labels with no predicted samples. Use `zero_division` parameter to control this behavior.\n",
      "  _warn_prf(average, modifier, msg_start, len(result))\n",
      "C:\\Users\\joshu\\AppData\\Local\\Packages\\PythonSoftwareFoundation.Python.3.8_qbz5n2kfra8p0\\LocalCache\\local-packages\\Python38\\site-packages\\sklearn\\metrics\\_classification.py:1308: UndefinedMetricWarning: Precision and F-score are ill-defined and being set to 0.0 in labels with no predicted samples. Use `zero_division` parameter to control this behavior.\n",
      "  _warn_prf(average, modifier, msg_start, len(result))\n",
      "C:\\Users\\joshu\\AppData\\Local\\Packages\\PythonSoftwareFoundation.Python.3.8_qbz5n2kfra8p0\\LocalCache\\local-packages\\Python38\\site-packages\\sklearn\\metrics\\_classification.py:1308: UndefinedMetricWarning: Precision and F-score are ill-defined and being set to 0.0 in labels with no predicted samples. Use `zero_division` parameter to control this behavior.\n",
      "  _warn_prf(average, modifier, msg_start, len(result))\n"
     ]
    }
   ],
   "source": [
    "model = LogisticRegression(C=.01)\n",
    "model.fit(X_train, Y_train)\n",
    "\n",
    "y_pred = model.predict(X_test)\n",
    "\n",
    "print(\"Accuracy Score:\", accuracy_score(Y_test, y_pred), \"\\n\")\n",
    "\n",
    "print(classification_report(Y_test, y_pred))"
   ]
  },
  {
   "cell_type": "markdown",
   "metadata": {},
   "source": [
    "## Implementation of SVM using Libraries"
   ]
  },
  {
   "cell_type": "code",
   "execution_count": 107,
   "metadata": {},
   "outputs": [],
   "source": [
    "model = svm.SVC(C=.01)\n",
    "model.fit(X_train, Y_train)\n",
    "\n",
    "y_pred = model.predict(X_test)"
   ]
  },
  {
   "cell_type": "code",
   "execution_count": 108,
   "metadata": {},
   "outputs": [
    {
     "name": "stdout",
     "output_type": "stream",
     "text": [
      "Accuracy Score: 0.506 \n",
      "\n",
      "              precision    recall  f1-score   support\n",
      "\n",
      "           0       0.51      1.00      0.67       253\n",
      "           1       0.00      0.00      0.00        53\n",
      "           2       0.00      0.00      0.00        58\n",
      "           3       0.00      0.00      0.00       136\n",
      "\n",
      "    accuracy                           0.51       500\n",
      "   macro avg       0.13      0.25      0.17       500\n",
      "weighted avg       0.26      0.51      0.34       500\n",
      "\n"
     ]
    },
    {
     "name": "stderr",
     "output_type": "stream",
     "text": [
      "C:\\Users\\joshu\\AppData\\Local\\Packages\\PythonSoftwareFoundation.Python.3.8_qbz5n2kfra8p0\\LocalCache\\local-packages\\Python38\\site-packages\\sklearn\\metrics\\_classification.py:1308: UndefinedMetricWarning: Precision and F-score are ill-defined and being set to 0.0 in labels with no predicted samples. Use `zero_division` parameter to control this behavior.\n",
      "  _warn_prf(average, modifier, msg_start, len(result))\n",
      "C:\\Users\\joshu\\AppData\\Local\\Packages\\PythonSoftwareFoundation.Python.3.8_qbz5n2kfra8p0\\LocalCache\\local-packages\\Python38\\site-packages\\sklearn\\metrics\\_classification.py:1308: UndefinedMetricWarning: Precision and F-score are ill-defined and being set to 0.0 in labels with no predicted samples. Use `zero_division` parameter to control this behavior.\n",
      "  _warn_prf(average, modifier, msg_start, len(result))\n",
      "C:\\Users\\joshu\\AppData\\Local\\Packages\\PythonSoftwareFoundation.Python.3.8_qbz5n2kfra8p0\\LocalCache\\local-packages\\Python38\\site-packages\\sklearn\\metrics\\_classification.py:1308: UndefinedMetricWarning: Precision and F-score are ill-defined and being set to 0.0 in labels with no predicted samples. Use `zero_division` parameter to control this behavior.\n",
      "  _warn_prf(average, modifier, msg_start, len(result))\n"
     ]
    }
   ],
   "source": [
    "print(\"Accuracy Score:\", accuracy_score(Y_test, y_pred), \"\\n\")\n",
    "\n",
    "print(classification_report(Y_test, y_pred))"
   ]
  },
  {
   "cell_type": "markdown",
   "metadata": {},
   "source": [
    "## Implementation of Linear SVC using Libraries"
   ]
  },
  {
   "cell_type": "code",
   "execution_count": 109,
   "metadata": {},
   "outputs": [
    {
     "name": "stdout",
     "output_type": "stream",
     "text": [
      "Accuracy Score: 0.56\n",
      "              precision    recall  f1-score   support\n",
      "\n",
      "           0       0.61      0.81      0.69       253\n",
      "           1       0.00      0.00      0.00        53\n",
      "           2       0.00      0.00      0.00        58\n",
      "           3       0.46      0.55      0.50       136\n",
      "\n",
      "    accuracy                           0.56       500\n",
      "   macro avg       0.27      0.34      0.30       500\n",
      "weighted avg       0.43      0.56      0.49       500\n",
      "\n"
     ]
    },
    {
     "name": "stderr",
     "output_type": "stream",
     "text": [
      "C:\\Users\\joshu\\AppData\\Local\\Packages\\PythonSoftwareFoundation.Python.3.8_qbz5n2kfra8p0\\LocalCache\\local-packages\\Python38\\site-packages\\sklearn\\svm\\_base.py:1206: ConvergenceWarning: Liblinear failed to converge, increase the number of iterations.\n",
      "  warnings.warn(\n",
      "C:\\Users\\joshu\\AppData\\Local\\Packages\\PythonSoftwareFoundation.Python.3.8_qbz5n2kfra8p0\\LocalCache\\local-packages\\Python38\\site-packages\\sklearn\\metrics\\_classification.py:1308: UndefinedMetricWarning: Precision and F-score are ill-defined and being set to 0.0 in labels with no predicted samples. Use `zero_division` parameter to control this behavior.\n",
      "  _warn_prf(average, modifier, msg_start, len(result))\n",
      "C:\\Users\\joshu\\AppData\\Local\\Packages\\PythonSoftwareFoundation.Python.3.8_qbz5n2kfra8p0\\LocalCache\\local-packages\\Python38\\site-packages\\sklearn\\metrics\\_classification.py:1308: UndefinedMetricWarning: Precision and F-score are ill-defined and being set to 0.0 in labels with no predicted samples. Use `zero_division` parameter to control this behavior.\n",
      "  _warn_prf(average, modifier, msg_start, len(result))\n",
      "C:\\Users\\joshu\\AppData\\Local\\Packages\\PythonSoftwareFoundation.Python.3.8_qbz5n2kfra8p0\\LocalCache\\local-packages\\Python38\\site-packages\\sklearn\\metrics\\_classification.py:1308: UndefinedMetricWarning: Precision and F-score are ill-defined and being set to 0.0 in labels with no predicted samples. Use `zero_division` parameter to control this behavior.\n",
      "  _warn_prf(average, modifier, msg_start, len(result))\n"
     ]
    }
   ],
   "source": [
    "model = svm.LinearSVC(C=.01, max_iter=300, fit_intercept=False)\n",
    "model.fit(X_train, Y_train)\n",
    "\n",
    "y_pred = model.predict(X_test)\n",
    "\n",
    "print(\"Accuracy Score:\", accuracy_score(Y_test, y_pred))\n",
    "\n",
    "# from sklearn.metrics import classification_report\n",
    "print(classification_report(Y_test, y_pred))"
   ]
  },
  {
   "cell_type": "markdown",
   "metadata": {},
   "source": [
    "## Implementation of SVM without Libraries"
   ]
  },
  {
   "cell_type": "markdown",
   "metadata": {},
   "source": [
    "### Function Predict SVM for Comparing Accuracy of Classifiers"
   ]
  },
  {
   "cell_type": "code",
   "execution_count": 110,
   "metadata": {},
   "outputs": [],
   "source": [
    "def predict_svm(weights, X):\n",
    "    \"\"\"\n",
    "    Predict the class between 0 and 1 using learned SVM parameters weights.\n",
    "    \"\"\"    \n",
    "    return np.where(np.dot(X, weights)<0, -1, 1)"
   ]
  },
  {
   "cell_type": "code",
   "execution_count": 111,
   "metadata": {},
   "outputs": [],
   "source": [
    "def compute_cost(X, y, W, regularization_factor):\n",
    "    '''This function calculate the hinge loss. Primal Problem in SVM'''\n",
    "    n = X.shape[0]\n",
    "    distances = 1 - y * (np.dot(X, W))\n",
    "    \n",
    "    # This is our max(0, distance). \n",
    "    distances[distances < 0] = 0 \n",
    "    \n",
    "    hinge_loss = regularization_factor * (np.sum(distances) / n)\n",
    "    # This divide by 2 is not important. You can skip doing it \n",
    "    # because we want only to check if this cost is going down or not. \n",
    "    return (1 / 2 * np.dot(W, W) + hinge_loss)"
   ]
  },
  {
   "cell_type": "code",
   "execution_count": 112,
   "metadata": {},
   "outputs": [],
   "source": [
    "def calculate_gradient(X, y, W, regularization_factor):\n",
    "      \n",
    "    if type(y) == np.float64:\n",
    "        y = np.array([y])\n",
    "        X = np.array([X])\n",
    "        \n",
    "    distance = 1 - (y * np.dot(X, W))\n",
    "    \n",
    "    dw = np.zeros(len(W))\n",
    "    \n",
    "    for ind, d in enumerate(distance):\n",
    "        \n",
    "        if (d < 0):\n",
    "            di = W\n",
    "        else:\n",
    "            di = W - (regularization_factor * y[ind] * X.loc[ind])\n",
    "            \n",
    "        dw += di\n",
    "    \n",
    "    dw = dw/len(y)  # average\n",
    "    \n",
    "    return dw"
   ]
  },
  {
   "cell_type": "code",
   "execution_count": 113,
   "metadata": {},
   "outputs": [],
   "source": [
    "# adding column of ones for matrix multiplication (dot product)\n",
    "x_0 = [1]*len(X_train)\n",
    "X_train['x_0'] = x_0\n",
    "X_train = X_train[['x_0', 'crew_age', 'flight_hours']]\n",
    "\n",
    "x_01 = [1]*len(X_test)\n",
    "X_test['x_0'] = x_01\n",
    "X_test = X_test[['x_0', 'crew_age', 'flight_hours']]"
   ]
  },
  {
   "cell_type": "code",
   "execution_count": 114,
   "metadata": {
    "scrolled": true
   },
   "outputs": [
    {
     "name": "stdout",
     "output_type": "stream",
     "text": [
      "Epoch 0 Cost is: 0.01 \n",
      " Weights:\n",
      " [0. 0. 0.]\n",
      "Accuracy Score: 0.106 \n",
      "\n",
      "Epoch 1 Cost is: 0.007339454348542341 \n",
      " Weights:\n",
      " x_0             0.000011\n",
      "crew_age        0.000606\n",
      "flight_hours    0.038879\n",
      "Name: 0, dtype: float64\n",
      "Accuracy Score: 0.106 \n",
      "\n",
      "Epoch 2 Cost is: 0.007290650076915729 \n",
      " Weights:\n",
      " x_0             0.000015\n",
      "crew_age        0.000826\n",
      "flight_hours    0.038852\n",
      "Name: 0, dtype: float64\n",
      "Accuracy Score: 0.106 \n",
      "\n",
      "Epoch 3 Cost is: 0.007242622816192422 \n",
      " Weights:\n",
      " x_0             0.000019\n",
      "crew_age        0.001044\n",
      "flight_hours    0.038825\n",
      "Name: 0, dtype: float64\n",
      "Accuracy Score: 0.106 \n",
      "\n",
      "Epoch 4 Cost is: 0.007195998921658793 \n",
      " Weights:\n",
      " x_0             0.000023\n",
      "crew_age        0.001259\n",
      "flight_hours    0.038798\n",
      "Name: 0, dtype: float64\n",
      "Accuracy Score: 0.106 \n",
      "\n",
      "Epoch 5 Cost is: 0.007150433194750938 \n",
      " Weights:\n",
      " x_0             0.000027\n",
      "crew_age        0.001470\n",
      "flight_hours    0.038770\n",
      "Name: 0, dtype: float64\n",
      "Accuracy Score: 0.106 \n",
      "\n",
      "Epoch 6 Cost is: 0.007104958553731171 \n",
      " Weights:\n",
      " x_0             0.000031\n",
      "crew_age        0.001682\n",
      "flight_hours    0.038742\n",
      "Name: 0, dtype: float64\n",
      "Accuracy Score: 0.106 \n",
      "\n",
      "Epoch 7 Cost is: 0.0070597697574074384 \n",
      " Weights:\n",
      " x_0             0.000034\n",
      "crew_age        0.001893\n",
      "flight_hours    0.038714\n",
      "Name: 0, dtype: float64\n",
      "Accuracy Score: 0.106 \n",
      "\n",
      "Epoch 8 Cost is: 0.007015595951418024 \n",
      " Weights:\n",
      " x_0             0.000038\n",
      "crew_age        0.002102\n",
      "flight_hours    0.038686\n",
      "Name: 0, dtype: float64\n",
      "Accuracy Score: 0.106 \n",
      "\n",
      "Epoch 9 Cost is: 0.006972590727368437 \n",
      " Weights:\n",
      " x_0             0.000042\n",
      "crew_age        0.002308\n",
      "flight_hours    0.038657\n",
      "Name: 0, dtype: float64\n",
      "Accuracy Score: 0.106 \n",
      "\n",
      "Epoch 10 Cost is: 0.006930973374515552 \n",
      " Weights:\n",
      " x_0             0.000046\n",
      "crew_age        0.002511\n",
      "flight_hours    0.038628\n",
      "Name: 0, dtype: float64\n",
      "Accuracy Score: 0.106 \n",
      "\n",
      "Epoch 11 Cost is: 0.00689065781195737 \n",
      " Weights:\n",
      " x_0             0.000049\n",
      "crew_age        0.002711\n",
      "flight_hours    0.038599\n",
      "Name: 0, dtype: float64\n",
      "Accuracy Score: 0.106 \n",
      "\n",
      "Epoch 12 Cost is: 0.006852118351156724 \n",
      " Weights:\n",
      " x_0             0.000053\n",
      "crew_age        0.002906\n",
      "flight_hours    0.038569\n",
      "Name: 0, dtype: float64\n",
      "Accuracy Score: 0.106 \n",
      "\n",
      "Epoch 13 Cost is: 0.006814152129124616 \n",
      " Weights:\n",
      " x_0             0.000057\n",
      "crew_age        0.003099\n",
      "flight_hours    0.038539\n",
      "Name: 0, dtype: float64\n",
      "Accuracy Score: 0.106 \n",
      "\n",
      "Epoch 14 Cost is: 0.006777085370871665 \n",
      " Weights:\n",
      " x_0             0.000060\n",
      "crew_age        0.003290\n",
      "flight_hours    0.038509\n",
      "Name: 0, dtype: float64\n",
      "Accuracy Score: 0.106 \n",
      "\n",
      "Epoch 15 Cost is: 0.006741872897812944 \n",
      " Weights:\n",
      " x_0             0.000064\n",
      "crew_age        0.003476\n",
      "flight_hours    0.038479\n",
      "Name: 0, dtype: float64\n",
      "Accuracy Score: 0.106 \n",
      "\n",
      "Epoch 16 Cost is: 0.006708362679856667 \n",
      " Weights:\n",
      " x_0             0.000067\n",
      "crew_age        0.003658\n",
      "flight_hours    0.038448\n",
      "Name: 0, dtype: float64\n",
      "Accuracy Score: 0.106 \n",
      "\n",
      "Epoch 17 Cost is: 0.006676908116892549 \n",
      " Weights:\n",
      " x_0             0.000070\n",
      "crew_age        0.003834\n",
      "flight_hours    0.038417\n",
      "Name: 0, dtype: float64\n",
      "Accuracy Score: 0.106 \n",
      "\n",
      "Epoch 18 Cost is: 0.006648165014970646 \n",
      " Weights:\n",
      " x_0             0.000073\n",
      "crew_age        0.004002\n",
      "flight_hours    0.038386\n",
      "Name: 0, dtype: float64\n",
      "Accuracy Score: 0.106 \n",
      "\n",
      "Epoch 19 Cost is: 0.00662056453605167 \n",
      " Weights:\n",
      " x_0             0.000077\n",
      "crew_age        0.004166\n",
      "flight_hours    0.038354\n",
      "Name: 0, dtype: float64\n",
      "Accuracy Score: 0.106 \n",
      "\n"
     ]
    }
   ],
   "source": [
    "# same length as previous matrices\n",
    "# y intercept is the b, must have one additional and add to x column of 1s\n",
    "# logistic reg and support vector having 1 additional \n",
    "# ex 16 or 16 1\n",
    "weights = np.zeros(3)\n",
    "\n",
    "# Now we optimize it using Gradient Descent. \n",
    "num_iterations = 20\n",
    "learning_rate = 0.001\n",
    "regularization = 0.01\n",
    "\n",
    "cost_list = []\n",
    "\n",
    "for i in range(0, num_iterations):\n",
    "    \n",
    "    # current iteration cost\n",
    "    cost = compute_cost(X_train, Y_train, weights, regularization)\n",
    "    \n",
    "    print(\"Epoch\", i, \"Cost is:\", cost, \"\\n\", \"Weights:\\n\", weights)\n",
    "    print(\"Accuracy Score:\", accuracy_score(Y_test, predict_svm(weights, X_test)), \"\\n\")\n",
    "    \n",
    "    # appending current iteration cost\n",
    "    cost_list.append(cost)\n",
    "    \n",
    "    # gradient descent (optimization)\n",
    "    grad = calculate_gradient(X_train, Y_train, weights, regularization)\n",
    "    \n",
    "    # updating the weights\n",
    "    weights = weights - learning_rate * grad"
   ]
  },
  {
   "cell_type": "code",
   "execution_count": 115,
   "metadata": {
    "scrolled": true
   },
   "outputs": [
    {
     "data": {
      "image/png": "[encoded data removed]",
      "text/plain": [
       "<Figure size 432x288 with 1 Axes>"
      ]
     },
     "metadata": {
      "needs_background": "light"
     },
     "output_type": "display_data"
    }
   ],
   "source": [
    "# plot cost per iteration\n",
    "plt.plot(np.arange(num_iterations), cost_list)\n",
    "plt.show()"
   ]
  },
  {
   "cell_type": "code",
   "execution_count": 116,
   "metadata": {},
   "outputs": [
    {
     "name": "stdout",
     "output_type": "stream",
     "text": [
      "Accuracy Score: 10.6 %\n",
      "              precision    recall  f1-score   support\n",
      "\n",
      "           0       0.00      0.00      0.00       253\n",
      "           1       0.11      1.00      0.19        53\n",
      "           2       0.00      0.00      0.00        58\n",
      "           3       0.00      0.00      0.00       136\n",
      "\n",
      "    accuracy                           0.11       500\n",
      "   macro avg       0.03      0.25      0.05       500\n",
      "weighted avg       0.01      0.11      0.02       500\n",
      "\n"
     ]
    },
    {
     "name": "stderr",
     "output_type": "stream",
     "text": [
      "C:\\Users\\joshu\\AppData\\Local\\Packages\\PythonSoftwareFoundation.Python.3.8_qbz5n2kfra8p0\\LocalCache\\local-packages\\Python38\\site-packages\\sklearn\\metrics\\_classification.py:1308: UndefinedMetricWarning: Precision and F-score are ill-defined and being set to 0.0 in labels with no predicted samples. Use `zero_division` parameter to control this behavior.\n",
      "  _warn_prf(average, modifier, msg_start, len(result))\n",
      "C:\\Users\\joshu\\AppData\\Local\\Packages\\PythonSoftwareFoundation.Python.3.8_qbz5n2kfra8p0\\LocalCache\\local-packages\\Python38\\site-packages\\sklearn\\metrics\\_classification.py:1308: UndefinedMetricWarning: Precision and F-score are ill-defined and being set to 0.0 in labels with no predicted samples. Use `zero_division` parameter to control this behavior.\n",
      "  _warn_prf(average, modifier, msg_start, len(result))\n",
      "C:\\Users\\joshu\\AppData\\Local\\Packages\\PythonSoftwareFoundation.Python.3.8_qbz5n2kfra8p0\\LocalCache\\local-packages\\Python38\\site-packages\\sklearn\\metrics\\_classification.py:1308: UndefinedMetricWarning: Precision and F-score are ill-defined and being set to 0.0 in labels with no predicted samples. Use `zero_division` parameter to control this behavior.\n",
      "  _warn_prf(average, modifier, msg_start, len(result))\n"
     ]
    }
   ],
   "source": [
    "print(\"Accuracy Score:\", accuracy_score(Y_test, predict_svm(weights, X_test)) *100, '%')\n",
    "\n",
    "print(classification_report(Y_test, predict_svm(weights, X_test)))"
   ]
  },
  {
   "cell_type": "code",
   "execution_count": null,
   "metadata": {},
   "outputs": [],
   "source": []
  }
 ],
 "metadata": {
  "kernelspec": {
   "display_name": "Python 3",
   "language": "python",
   "name": "python3"
  },
  "language_info": {
   "codemirror_mode": {
    "name": "ipython",
    "version": 3
   },
   "file_extension": ".py",
   "mimetype": "text/x-python",
   "name": "python",
   "nbconvert_exporter": "python",
   "pygments_lexer": "ipython3",
   "version": "3.8.10"
  }
 },
 "nbformat": 4,
 "nbformat_minor": 2
}
