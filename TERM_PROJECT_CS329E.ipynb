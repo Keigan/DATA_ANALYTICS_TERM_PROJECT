{
 "cells": [
  {
   "cell_type": "markdown",
   "metadata": {},
   "source": [
    "# Term Project - CS329E\n",
    "#### University Of Texas at Austin\n",
    "#### 30 November 2021 \n",
    "#### Contributors: Keigan Kincaid  and Joshua Oh "
   ]
  },
  {
   "cell_type": "markdown",
   "metadata": {},
   "source": [
    "## Research Question:\n",
    "## Is it possible to develop an accurate classifier that determines severity of injury for fixed wing aircraft incidents?"
   ]
  },
  {
   "attachments": {},
   "cell_type": "markdown",
   "metadata": {},
   "source": [
    "### What is our dataset about?\n",
    "\n",
    "The NTSB aviation accident database contains information from 1962 and later about civil aviation accidents and selected incidents within the United States, its territories, and possessions, and in international waters. \n",
    "\n",
    "A preliminary report is available online within a few days of an accident. Information is added when available, and when the investigation is completed, the preliminary report is replaced with a final description of the accident and its probable cause. The dataset is updated monthly in Microsoft Access 2000 MDB format. \n",
    "\n",
    "For this project we decided to use a version of the dataset only including incidents from 2008 to the Present. Our decision for this was largely because the datasets before 2008 did not distinguish whether the event represented the pilot controlling the aircraft at the time or whether the event index was associate with co-pilots, crew, or passengers’ injuries or related statistics.\n",
    "\n",
    "To appropriately address our research question and reduce our sample size from over 100,000 events to around 8000. The dataset was originally cleaned via Excel in the Microsoft Access 2000 MDB format. From there we selected the appropriate variables and compiled them into a single Excel file where we were able to remove repeats, and null values. Finally, we saved this subset of the original Microsoft Access Database in a CSV format.\n"
   ]
  },
  {
   "attachments": {},
   "cell_type": "markdown",
   "metadata": {},
   "source": [
    "### Information Regarding Data Cleaning\n",
    "\n",
    "As our dataset was around 8000 observations, we utilized a randomized sample of 2000 observations. We then split this sample into an 75-25 split to test and train our classifiers."
   ]
  },
  {
   "attachments": {},
   "cell_type": "markdown",
   "metadata": {},
   "source": [
    "### Research Question, What we hope to learn from data, and Learning models implemented\n",
    "\n",
    "Research Question: Is it possible to develop an accurate classifier that determines severity of injury for fixed wing aircraft incidents?\n",
    "\n",
    "In this study, we hope to create a model that can classify injury level based upon pilot age (measured in years), and experience (measured in flight hours).\n",
    "\n",
    "It is important to note that flight hours are measured by the number of hours a pilot has been operating an aircraft, which is kept in a log and verified in annual inspections by a third party to ensure the airworthiness of the vehicle, along with its pilot. Further hours may be logged while completing training exercises as a co-pilot or with guided instruction for a CFI (Certified Flight Instructor.) \n",
    "\n",
    "Time logged in simulators or ground school are not included in pilot flight hours. In this study we are looking to use an industry standard classifier (the SVM) to help predict pilot crash severity. The four classifiers we will be using are Logistric Regression, SVM SVC, SVM SVC Linear Regression, and a Gradient Descent/Hinge Loss function without using libraries."
   ]
  },
  {
   "attachments": {},
   "cell_type": "markdown",
   "metadata": {},
   "source": [
    "### Expectations Regarding Results Prior to Study\n",
    "\n",
    "Generally, we expect that younger pilots with less hours will be more reckless than those with more experience and more time in the cockpit. This inexperience is a key factor in why we believe these pilots will be responsible for a larger portion of fixed wing aviation incidents."
   ]
  },
  {
   "attachments": {},
   "cell_type": "markdown",
   "metadata": {},
   "source": [
    "#### How we would like our project to be evaluated, How to assess correctness of our models, Thoughts on our models success prior to study\n",
    "\n",
    "It is important to consider that we are only using two features to classify these events. That being Flight Hours and Age. There are many more features that play a part in aviation incidents which could contribute to aviation incidents.\n",
    "\n",
    "We expect our model to perform better than a random chance algorithm, that is 51% or better. We do not expect there to be a large difference in the implementations, however we do believe that our dataset is not perfect. For future research, it could be useful to compare other models and include more features. Adding more features may improve the accuracy of our models, avoiding blatant representations such as engine failure, severe weather conditions, or drug/alcohol use."
   ]
  },
  {
   "cell_type": "markdown",
   "metadata": {},
   "source": [
    "### Results\n",
    "\n",
    "Our final results show that with Logistic Regression and the standard Sci-Kit Learn SVM SVC, we have an accurary ~ 50%, while our Linear SVM SVC has an accurary slightly > 50%, and SVM without libraries struggles to reach an accuracy score over 10-15%."
   ]
  },
  {
   "cell_type": "markdown",
   "metadata": {},
   "source": [
    "### What can you do to improve your results? What are limitations of your implementations or dataset?\n",
    "\n",
    "We believe cleaning and analyzing the data would improve the results. We believe their are outliers in the data that are lowering our model's accuracy. Furthermore, there are limited amounts of features that we used to develop our classifier. Looking into the the NTSB Aviation Accident Database and picking more correlating features may help to improve our model. Additionally, many of the outliers in our data are present due to deciding to keep both private and commercial flight data in our dataset. Splitting these data groups up may also help to improve our model. "
   ]
  },
  {
   "cell_type": "markdown",
   "metadata": {},
   "source": [
    "### Ideas Applied to improve results:\n",
    "\n",
    "We decided to utilize Linear SVM SVC because it is more accurate for larger datasets. We can observe that this particular model was more accurate than the other models implemented."
   ]
  },
  {
   "cell_type": "markdown",
   "metadata": {},
   "source": [
    "### Describe Code and Implementations:\n",
    "\n",
    "Our code and implementations are commented below."
   ]
  },
  {
   "cell_type": "markdown",
   "metadata": {},
   "source": [
    "### References: \n",
    "\n",
    "NTSB Aviation Accident Database:\n",
    "https://data.ntsb.gov/avdata"
   ]
  },
  {
   "cell_type": "code",
   "execution_count": 127,
   "metadata": {},
   "outputs": [],
   "source": [
    "import pandas as pd\n",
    "import numpy as np\n",
    "import matplotlib.pyplot as plt\n",
    "from sklearn.model_selection import train_test_split\n",
    "from sklearn import svm\n",
    "from sklearn.linear_model import LogisticRegression\n",
    "from sklearn.metrics import accuracy_score\n",
    "from sklearn.metrics import classification_report\n",
    "from sklearn.utils import shuffle\n",
    "\n",
    "# Enable inline mode for matplotlib so that Jupyter displays graphs\n",
    "%matplotlib inline"
   ]
  },
  {
   "cell_type": "code",
   "execution_count": 128,
   "metadata": {},
   "outputs": [],
   "source": [
    "# loading in our crash data then shuffle the dataset so that it is difference each time we run the code\n",
    "crash_df_raw = pd.read_csv('crash_Dataset.csv')\n",
    "\n",
    "# shuffle feature, turn off for testing\n",
    "crash_df_raw = shuffle(crash_df_raw)"
   ]
  },
  {
   "cell_type": "code",
   "execution_count": 129,
   "metadata": {},
   "outputs": [
    {
     "data": {
      "text/html": [
       "<div>\n",
       "<style scoped>\n",
       "    .dataframe tbody tr th:only-of-type {\n",
       "        vertical-align: middle;\n",
       "    }\n",
       "\n",
       "    .dataframe tbody tr th {\n",
       "        vertical-align: top;\n",
       "    }\n",
       "\n",
       "    .dataframe thead th {\n",
       "        text-align: right;\n",
       "    }\n",
       "</style>\n",
       "<table border=\"1\" class=\"dataframe\">\n",
       "  <thead>\n",
       "    <tr style=\"text-align: right;\">\n",
       "      <th></th>\n",
       "      <th>ev_id</th>\n",
       "      <th>crew_age</th>\n",
       "      <th>crew_inj_level</th>\n",
       "      <th>flight_hours</th>\n",
       "    </tr>\n",
       "  </thead>\n",
       "  <tbody>\n",
       "    <tr>\n",
       "      <th>2328</th>\n",
       "      <td>20141028X13749</td>\n",
       "      <td>74</td>\n",
       "      <td>0</td>\n",
       "      <td>3.0</td>\n",
       "    </tr>\n",
       "    <tr>\n",
       "      <th>3452</th>\n",
       "      <td>20151014X62259</td>\n",
       "      <td>51</td>\n",
       "      <td>0</td>\n",
       "      <td>288.0</td>\n",
       "    </tr>\n",
       "    <tr>\n",
       "      <th>433</th>\n",
       "      <td>20121215X21508</td>\n",
       "      <td>58</td>\n",
       "      <td>1</td>\n",
       "      <td>9.0</td>\n",
       "    </tr>\n",
       "    <tr>\n",
       "      <th>2411</th>\n",
       "      <td>20141207X85731</td>\n",
       "      <td>56</td>\n",
       "      <td>0</td>\n",
       "      <td>2.0</td>\n",
       "    </tr>\n",
       "    <tr>\n",
       "      <th>7464</th>\n",
       "      <td>20190612X55836</td>\n",
       "      <td>67</td>\n",
       "      <td>3</td>\n",
       "      <td>8.0</td>\n",
       "    </tr>\n",
       "    <tr>\n",
       "      <th>...</th>\n",
       "      <td>...</td>\n",
       "      <td>...</td>\n",
       "      <td>...</td>\n",
       "      <td>...</td>\n",
       "    </tr>\n",
       "    <tr>\n",
       "      <th>6018</th>\n",
       "      <td>20180112X51351</td>\n",
       "      <td>26</td>\n",
       "      <td>3</td>\n",
       "      <td>10.0</td>\n",
       "    </tr>\n",
       "    <tr>\n",
       "      <th>6599</th>\n",
       "      <td>20180711X41922</td>\n",
       "      <td>58</td>\n",
       "      <td>0</td>\n",
       "      <td>400.0</td>\n",
       "    </tr>\n",
       "    <tr>\n",
       "      <th>8404</th>\n",
       "      <td>20200912X53150</td>\n",
       "      <td>59</td>\n",
       "      <td>1</td>\n",
       "      <td>15.1</td>\n",
       "    </tr>\n",
       "    <tr>\n",
       "      <th>1591</th>\n",
       "      <td>20140513X33323</td>\n",
       "      <td>44</td>\n",
       "      <td>0</td>\n",
       "      <td>6200.0</td>\n",
       "    </tr>\n",
       "    <tr>\n",
       "      <th>3815</th>\n",
       "      <td>20160224X71851</td>\n",
       "      <td>66</td>\n",
       "      <td>0</td>\n",
       "      <td>13.0</td>\n",
       "    </tr>\n",
       "  </tbody>\n",
       "</table>\n",
       "<p>2000 rows × 4 columns</p>\n",
       "</div>"
      ],
      "text/plain": [
       "               ev_id  crew_age  crew_inj_level  flight_hours\n",
       "2328  20141028X13749        74               0           3.0\n",
       "3452  20151014X62259        51               0         288.0\n",
       "433   20121215X21508        58               1           9.0\n",
       "2411  20141207X85731        56               0           2.0\n",
       "7464  20190612X55836        67               3           8.0\n",
       "...              ...       ...             ...           ...\n",
       "6018  20180112X51351        26               3          10.0\n",
       "6599  20180711X41922        58               0         400.0\n",
       "8404  20200912X53150        59               1          15.1\n",
       "1591  20140513X33323        44               0        6200.0\n",
       "3815  20160224X71851        66               0          13.0\n",
       "\n",
       "[2000 rows x 4 columns]"
      ]
     },
     "execution_count": 129,
     "metadata": {},
     "output_type": "execute_result"
    }
   ],
   "source": [
    "# taking the first 2000 observations from the shuffled dataset\n",
    "crash_df = crash_df_raw.head(n=2000)\n",
    "crash_df"
   ]
  },
  {
   "cell_type": "markdown",
   "metadata": {},
   "source": [
    "## Observing Data Distributions"
   ]
  },
  {
   "cell_type": "code",
   "execution_count": 130,
   "metadata": {},
   "outputs": [
    {
     "data": {
      "image/png": "[encoded data removed]",
      "text/plain": [
       "<Figure size 432x288 with 1 Axes>"
      ]
     },
     "metadata": {
      "needs_background": "light"
     },
     "output_type": "display_data"
    }
   ],
   "source": [
    "# plot crew_age distribution\n",
    "plt.hist(crash_df['crew_age'], facecolor='b', alpha=0.50)\n",
    "plt.xlabel('Crew Age')\n",
    "plt.ylabel('Frequency')\n",
    "plt.title('Age Distribution')\n",
    "plt.grid(True)"
   ]
  },
  {
   "cell_type": "code",
   "execution_count": 131,
   "metadata": {},
   "outputs": [
    {
     "data": {
      "image/png": "[encoded data removed]",
      "text/plain": [
       "<Figure size 432x288 with 1 Axes>"
      ]
     },
     "metadata": {
      "needs_background": "light"
     },
     "output_type": "display_data"
    }
   ],
   "source": [
    "# plot crew_inj_level distribution\n",
    "plt.hist(crash_df['crew_inj_level'], facecolor='b', alpha=0.50)\n",
    "plt.xlabel('Injuries')\n",
    "plt.ylabel('Frequency')\n",
    "plt.title('Injury Distribution')\n",
    "plt.grid(True)\n",
    "\n",
    "# Injury Levels\n",
    "    # 0 --> None\n",
    "    # 1 --> Minor \n",
    "    # 2 --> Severe\n",
    "    # 3 --> Fatal"
   ]
  },
  {
   "cell_type": "code",
   "execution_count": 173,
   "metadata": {},
   "outputs": [
    {
     "data": {
      "image/png": "[encoded data removed]",
      "text/plain": [
       "<Figure size 432x288 with 1 Axes>"
      ]
     },
     "metadata": {
      "needs_background": "light"
     },
     "output_type": "display_data"
    }
   ],
   "source": [
    "# plot flight_hours distribution\n",
    "plt.hist(crash_df['flight_hours'], facecolor='b', alpha=0.50)\n",
    "plt.xlabel('Flight Hours')\n",
    "plt.ylabel('Frequency')\n",
    "plt.title('Flight Hours Distribution')\n",
    "plt.grid(True)\n",
    "\n",
    "# data range for flight hours is massive, can result in unreadable histogram"
   ]
  },
  {
   "cell_type": "code",
   "execution_count": 172,
   "metadata": {},
   "outputs": [
    {
     "name": "stdout",
     "output_type": "stream",
     "text": [
      "1445.1074503554316\n"
     ]
    },
    {
     "data": {
      "image/png": "[encoded data removed]",
      "text/plain": [
       "<Figure size 432x288 with 1 Axes>"
      ]
     },
     "metadata": {
      "needs_background": "light"
     },
     "output_type": "display_data"
    }
   ],
   "source": [
    "# plot flight_hours distribution zoomed in\n",
    "plt.hist(crash_df['flight_hours'], bins=2000, facecolor='b', alpha=0.50)\n",
    "plt.xlabel('Flight Hours')\n",
    "plt.ylabel('Frequency')\n",
    "plt.xlim(0, 10000)\n",
    "plt.title('Flight Hours Distribution (Zoomed In)')\n",
    "plt.grid(True)\n",
    "\n",
    "# identifying the average flight hour value\n",
    "print(np.mean(crash_df['flight_hours']))"
   ]
  },
  {
   "cell_type": "markdown",
   "metadata": {},
   "source": [
    "## Splitting Dataset"
   ]
  },
  {
   "cell_type": "code",
   "execution_count": 133,
   "metadata": {},
   "outputs": [
    {
     "name": "stdout",
     "output_type": "stream",
     "text": [
      "(1500, 2)\n",
      "(1500,)\n",
      "(500, 2)\n",
      "(500,)\n"
     ]
    }
   ],
   "source": [
    "# splitting into features and targets, X and Y respectively\n",
    "X = crash_df[['crew_age', 'flight_hours']]\n",
    "Y = crash_df['crew_inj_level']\n",
    "\n",
    "# splitting the data into testing and training sets\n",
    "X_train, X_test, Y_train, Y_test = train_test_split(X, Y, test_size=0.25, random_state=512)\n",
    "\n",
    "# re-indexing in dataframe\n",
    "X_train = X_train.reset_index(drop=True)\n",
    "Y_train = Y_train.reset_index(drop=True)\n",
    "\n",
    "# printing shapes of Target training and test data\n",
    "print(X_train.shape)\n",
    "print(Y_train.shape)\n",
    "print(X_test.shape)\n",
    "print(Y_test.shape)"
   ]
  },
  {
   "cell_type": "markdown",
   "metadata": {},
   "source": [
    "## Logistic Regression"
   ]
  },
  {
   "cell_type": "code",
   "execution_count": 134,
   "metadata": {},
   "outputs": [
    {
     "name": "stdout",
     "output_type": "stream",
     "text": [
      "Accuracy Score: 0.618 \n",
      "\n",
      "              precision    recall  f1-score   support\n",
      "\n",
      "           0       0.62      0.99      0.76       304\n",
      "           1       0.00      0.00      0.00        71\n",
      "           2       0.00      0.00      0.00        52\n",
      "           3       0.54      0.10      0.16        73\n",
      "\n",
      "    accuracy                           0.62       500\n",
      "   macro avg       0.29      0.27      0.23       500\n",
      "weighted avg       0.46      0.62      0.49       500\n",
      "\n"
     ]
    },
    {
     "name": "stderr",
     "output_type": "stream",
     "text": [
      "C:\\Users\\joshu\\AppData\\Local\\Packages\\PythonSoftwareFoundation.Python.3.8_qbz5n2kfra8p0\\LocalCache\\local-packages\\Python38\\site-packages\\sklearn\\metrics\\_classification.py:1308: UndefinedMetricWarning: Precision and F-score are ill-defined and being set to 0.0 in labels with no predicted samples. Use `zero_division` parameter to control this behavior.\n",
      "  _warn_prf(average, modifier, msg_start, len(result))\n",
      "C:\\Users\\joshu\\AppData\\Local\\Packages\\PythonSoftwareFoundation.Python.3.8_qbz5n2kfra8p0\\LocalCache\\local-packages\\Python38\\site-packages\\sklearn\\metrics\\_classification.py:1308: UndefinedMetricWarning: Precision and F-score are ill-defined and being set to 0.0 in labels with no predicted samples. Use `zero_division` parameter to control this behavior.\n",
      "  _warn_prf(average, modifier, msg_start, len(result))\n",
      "C:\\Users\\joshu\\AppData\\Local\\Packages\\PythonSoftwareFoundation.Python.3.8_qbz5n2kfra8p0\\LocalCache\\local-packages\\Python38\\site-packages\\sklearn\\metrics\\_classification.py:1308: UndefinedMetricWarning: Precision and F-score are ill-defined and being set to 0.0 in labels with no predicted samples. Use `zero_division` parameter to control this behavior.\n",
      "  _warn_prf(average, modifier, msg_start, len(result))\n"
     ]
    }
   ],
   "source": [
    "model = LogisticRegression(C=.01)\n",
    "model.fit(X_train, Y_train)\n",
    "\n",
    "y_pred = model.predict(X_test)\n",
    "\n",
    "print(\"Accuracy Score:\", accuracy_score(Y_test, y_pred), \"\\n\")\n",
    "\n",
    "print(classification_report(Y_test, y_pred))"
   ]
  },
  {
   "cell_type": "markdown",
   "metadata": {},
   "source": [
    "## Implementation of SVM using Libraries"
   ]
  },
  {
   "cell_type": "code",
   "execution_count": 135,
   "metadata": {},
   "outputs": [],
   "source": [
    "model = svm.SVC(C=.01)\n",
    "model.fit(X_train, Y_train)\n",
    "\n",
    "y_pred = model.predict(X_test)"
   ]
  },
  {
   "cell_type": "code",
   "execution_count": 136,
   "metadata": {},
   "outputs": [
    {
     "name": "stdout",
     "output_type": "stream",
     "text": [
      "Accuracy Score: 0.608 \n",
      "\n",
      "              precision    recall  f1-score   support\n",
      "\n",
      "           0       0.61      1.00      0.76       304\n",
      "           1       0.00      0.00      0.00        71\n",
      "           2       0.00      0.00      0.00        52\n",
      "           3       0.00      0.00      0.00        73\n",
      "\n",
      "    accuracy                           0.61       500\n",
      "   macro avg       0.15      0.25      0.19       500\n",
      "weighted avg       0.37      0.61      0.46       500\n",
      "\n"
     ]
    },
    {
     "name": "stderr",
     "output_type": "stream",
     "text": [
      "C:\\Users\\joshu\\AppData\\Local\\Packages\\PythonSoftwareFoundation.Python.3.8_qbz5n2kfra8p0\\LocalCache\\local-packages\\Python38\\site-packages\\sklearn\\metrics\\_classification.py:1308: UndefinedMetricWarning: Precision and F-score are ill-defined and being set to 0.0 in labels with no predicted samples. Use `zero_division` parameter to control this behavior.\n",
      "  _warn_prf(average, modifier, msg_start, len(result))\n",
      "C:\\Users\\joshu\\AppData\\Local\\Packages\\PythonSoftwareFoundation.Python.3.8_qbz5n2kfra8p0\\LocalCache\\local-packages\\Python38\\site-packages\\sklearn\\metrics\\_classification.py:1308: UndefinedMetricWarning: Precision and F-score are ill-defined and being set to 0.0 in labels with no predicted samples. Use `zero_division` parameter to control this behavior.\n",
      "  _warn_prf(average, modifier, msg_start, len(result))\n",
      "C:\\Users\\joshu\\AppData\\Local\\Packages\\PythonSoftwareFoundation.Python.3.8_qbz5n2kfra8p0\\LocalCache\\local-packages\\Python38\\site-packages\\sklearn\\metrics\\_classification.py:1308: UndefinedMetricWarning: Precision and F-score are ill-defined and being set to 0.0 in labels with no predicted samples. Use `zero_division` parameter to control this behavior.\n",
      "  _warn_prf(average, modifier, msg_start, len(result))\n"
     ]
    }
   ],
   "source": [
    "print(\"Accuracy Score:\", accuracy_score(Y_test, y_pred), \"\\n\")\n",
    "\n",
    "print(classification_report(Y_test, y_pred))"
   ]
  },
  {
   "cell_type": "markdown",
   "metadata": {},
   "source": [
    "## Implementation of Linear SVC using Libraries"
   ]
  },
  {
   "cell_type": "code",
   "execution_count": 137,
   "metadata": {},
   "outputs": [
    {
     "name": "stdout",
     "output_type": "stream",
     "text": [
      "Accuracy Score: 0.516\n",
      "              precision    recall  f1-score   support\n",
      "\n",
      "           0       0.68      0.78      0.73       304\n",
      "           1       0.14      0.28      0.18        71\n",
      "           2       0.00      0.00      0.00        52\n",
      "           3       0.00      0.00      0.00        73\n",
      "\n",
      "    accuracy                           0.52       500\n",
      "   macro avg       0.20      0.27      0.23       500\n",
      "weighted avg       0.43      0.52      0.47       500\n",
      "\n"
     ]
    },
    {
     "name": "stderr",
     "output_type": "stream",
     "text": [
      "C:\\Users\\joshu\\AppData\\Local\\Packages\\PythonSoftwareFoundation.Python.3.8_qbz5n2kfra8p0\\LocalCache\\local-packages\\Python38\\site-packages\\sklearn\\svm\\_base.py:1206: ConvergenceWarning: Liblinear failed to converge, increase the number of iterations.\n",
      "  warnings.warn(\n",
      "C:\\Users\\joshu\\AppData\\Local\\Packages\\PythonSoftwareFoundation.Python.3.8_qbz5n2kfra8p0\\LocalCache\\local-packages\\Python38\\site-packages\\sklearn\\metrics\\_classification.py:1308: UndefinedMetricWarning: Precision and F-score are ill-defined and being set to 0.0 in labels with no predicted samples. Use `zero_division` parameter to control this behavior.\n",
      "  _warn_prf(average, modifier, msg_start, len(result))\n",
      "C:\\Users\\joshu\\AppData\\Local\\Packages\\PythonSoftwareFoundation.Python.3.8_qbz5n2kfra8p0\\LocalCache\\local-packages\\Python38\\site-packages\\sklearn\\metrics\\_classification.py:1308: UndefinedMetricWarning: Precision and F-score are ill-defined and being set to 0.0 in labels with no predicted samples. Use `zero_division` parameter to control this behavior.\n",
      "  _warn_prf(average, modifier, msg_start, len(result))\n",
      "C:\\Users\\joshu\\AppData\\Local\\Packages\\PythonSoftwareFoundation.Python.3.8_qbz5n2kfra8p0\\LocalCache\\local-packages\\Python38\\site-packages\\sklearn\\metrics\\_classification.py:1308: UndefinedMetricWarning: Precision and F-score are ill-defined and being set to 0.0 in labels with no predicted samples. Use `zero_division` parameter to control this behavior.\n",
      "  _warn_prf(average, modifier, msg_start, len(result))\n"
     ]
    }
   ],
   "source": [
    "model = svm.LinearSVC(C=.01, max_iter=300, fit_intercept=False)\n",
    "model.fit(X_train, Y_train)\n",
    "\n",
    "y_pred = model.predict(X_test)\n",
    "\n",
    "print(\"Accuracy Score:\", accuracy_score(Y_test, y_pred))\n",
    "\n",
    "# from sklearn.metrics import classification_report\n",
    "print(classification_report(Y_test, y_pred))"
   ]
  },
  {
   "cell_type": "markdown",
   "metadata": {},
   "source": [
    "## Implementation of SVM without Libraries"
   ]
  },
  {
   "cell_type": "markdown",
   "metadata": {},
   "source": [
    "### Function Predict SVM for Comparing Accuracy of Classifiers"
   ]
  },
  {
   "cell_type": "code",
   "execution_count": 138,
   "metadata": {},
   "outputs": [],
   "source": [
    "def predict_svm(weights, X):\n",
    "    \"\"\"\n",
    "    Predict the class between 0 and 1 using learned SVM parameters weights.\n",
    "    \"\"\"    \n",
    "    return np.where(np.dot(X, weights)<0, -1, 1)"
   ]
  },
  {
   "cell_type": "code",
   "execution_count": 139,
   "metadata": {},
   "outputs": [],
   "source": [
    "def compute_cost(X, y, W, regularization_factor):\n",
    "    '''This function calculate the hinge loss. Primal Problem in SVM'''\n",
    "    n = X.shape[0]\n",
    "    distances = 1 - y * (np.dot(X, W))\n",
    "    \n",
    "    # This is our max(0, distance). \n",
    "    distances[distances < 0] = 0 \n",
    "    \n",
    "    hinge_loss = regularization_factor * (np.sum(distances) / n)\n",
    "    # This divide by 2 is not important. You can skip doing it \n",
    "    # because we want only to check if this cost is going down or not. \n",
    "    return (1 / 2 * np.dot(W, W) + hinge_loss)"
   ]
  },
  {
   "cell_type": "code",
   "execution_count": 140,
   "metadata": {},
   "outputs": [],
   "source": [
    "def calculate_gradient(X, y, W, regularization_factor):\n",
    "      \n",
    "    if type(y) == np.float64:\n",
    "        y = np.array([y])\n",
    "        X = np.array([X])\n",
    "        \n",
    "    distance = 1 - (y * np.dot(X, W))\n",
    "    \n",
    "    dw = np.zeros(len(W))\n",
    "    \n",
    "    for ind, d in enumerate(distance):\n",
    "        \n",
    "        if (d < 0):\n",
    "            di = W\n",
    "        else:\n",
    "            di = W - (regularization_factor * y[ind] * X.loc[ind])\n",
    "            \n",
    "        dw += di\n",
    "    \n",
    "    dw = dw/len(y)  # average\n",
    "    \n",
    "    return dw"
   ]
  },
  {
   "cell_type": "code",
   "execution_count": 141,
   "metadata": {},
   "outputs": [],
   "source": [
    "# adding column of ones for matrix multiplication (dot product)\n",
    "x_0 = [1]*len(X_train)\n",
    "X_train['x_0'] = x_0\n",
    "X_train = X_train[['x_0', 'crew_age', 'flight_hours']]\n",
    "\n",
    "x_01 = [1]*len(X_test)\n",
    "X_test['x_0'] = x_01\n",
    "X_test = X_test[['x_0', 'crew_age', 'flight_hours']]"
   ]
  },
  {
   "cell_type": "code",
   "execution_count": 142,
   "metadata": {
    "scrolled": true
   },
   "outputs": [
    {
     "name": "stdout",
     "output_type": "stream",
     "text": [
      "Epoch 0 Cost is: 0.01 \n",
      " Weights:\n",
      " [0. 0. 0.]\n",
      "Accuracy Score: 0.142 \n",
      "\n",
      "Epoch 1 Cost is: 0.007754323494774965 \n",
      " Weights:\n",
      " x_0             0.000009\n",
      "crew_age        0.000490\n",
      "flight_hours    0.028225\n",
      "Name: 0, dtype: float64\n",
      "Accuracy Score: 0.142 \n",
      "\n",
      "Epoch 2 Cost is: 0.00771503227937603 \n",
      " Weights:\n",
      " x_0             0.000012\n",
      "crew_age        0.000688\n",
      "flight_hours    0.028209\n",
      "Name: 0, dtype: float64\n",
      "Accuracy Score: 0.142 \n",
      "\n",
      "Epoch 3 Cost is: 0.007675836083986081 \n",
      " Weights:\n",
      " x_0             0.000016\n",
      "crew_age        0.000885\n",
      "flight_hours    0.028193\n",
      "Name: 0, dtype: float64\n",
      "Accuracy Score: 0.142 \n",
      "\n",
      "Epoch 4 Cost is: 0.007637264293170427 \n",
      " Weights:\n",
      " x_0             0.000019\n",
      "crew_age        0.001081\n",
      "flight_hours    0.028177\n",
      "Name: 0, dtype: float64\n",
      "Accuracy Score: 0.142 \n",
      "\n",
      "Epoch 5 Cost is: 0.007599251799271649 \n",
      " Weights:\n",
      " x_0             0.000023\n",
      "crew_age        0.001275\n",
      "flight_hours    0.028161\n",
      "Name: 0, dtype: float64\n",
      "Accuracy Score: 0.142 \n",
      "\n",
      "Epoch 6 Cost is: 0.0075614572391117995 \n",
      " Weights:\n",
      " x_0             0.000026\n",
      "crew_age        0.001469\n",
      "flight_hours    0.028144\n",
      "Name: 0, dtype: float64\n",
      "Accuracy Score: 0.142 \n",
      "\n",
      "Epoch 7 Cost is: 0.007524561799419299 \n",
      " Weights:\n",
      " x_0             0.000030\n",
      "crew_age        0.001661\n",
      "flight_hours    0.028128\n",
      "Name: 0, dtype: float64\n",
      "Accuracy Score: 0.142 \n",
      "\n",
      "Epoch 8 Cost is: 0.007488578981771772 \n",
      " Weights:\n",
      " x_0             0.000033\n",
      "crew_age        0.001850\n",
      "flight_hours    0.028111\n",
      "Name: 0, dtype: float64\n",
      "Accuracy Score: 0.142 \n",
      "\n",
      "Epoch 9 Cost is: 0.007452765416070192 \n",
      " Weights:\n",
      " x_0             0.000037\n",
      "crew_age        0.002039\n",
      "flight_hours    0.028093\n",
      "Name: 0, dtype: float64\n",
      "Accuracy Score: 0.142 \n",
      "\n",
      "Epoch 10 Cost is: 0.007418114110285818 \n",
      " Weights:\n",
      " x_0             0.000040\n",
      "crew_age        0.002225\n",
      "flight_hours    0.028076\n",
      "Name: 0, dtype: float64\n",
      "Accuracy Score: 0.142 \n",
      "\n",
      "Epoch 11 Cost is: 0.007384170272173047 \n",
      " Weights:\n",
      " x_0             0.000043\n",
      "crew_age        0.002409\n",
      "flight_hours    0.028057\n",
      "Name: 0, dtype: float64\n",
      "Accuracy Score: 0.142 \n",
      "\n",
      "Epoch 12 Cost is: 0.007350734099240551 \n",
      " Weights:\n",
      " x_0             0.000047\n",
      "crew_age        0.002591\n",
      "flight_hours    0.028039\n",
      "Name: 0, dtype: float64\n",
      "Accuracy Score: 0.142 \n",
      "\n",
      "Epoch 13 Cost is: 0.007317835949445318 \n",
      " Weights:\n",
      " x_0             0.000050\n",
      "crew_age        0.002771\n",
      "flight_hours    0.028021\n",
      "Name: 0, dtype: float64\n",
      "Accuracy Score: 0.142 \n",
      "\n",
      "Epoch 14 Cost is: 0.007285132503287753 \n",
      " Weights:\n",
      " x_0             0.000053\n",
      "crew_age        0.002951\n",
      "flight_hours    0.028002\n",
      "Name: 0, dtype: float64\n",
      "Accuracy Score: 0.142 \n",
      "\n",
      "Epoch 15 Cost is: 0.007253242201397286 \n",
      " Weights:\n",
      " x_0             0.000056\n",
      "crew_age        0.003129\n",
      "flight_hours    0.027984\n",
      "Name: 0, dtype: float64\n",
      "Accuracy Score: 0.142 \n",
      "\n",
      "Epoch 16 Cost is: 0.0072217835230159386 \n",
      " Weights:\n",
      " x_0             0.000060\n",
      "crew_age        0.003307\n",
      "flight_hours    0.027965\n",
      "Name: 0, dtype: float64\n",
      "Accuracy Score: 0.142 \n",
      "\n",
      "Epoch 17 Cost is: 0.007191856936636149 \n",
      " Weights:\n",
      " x_0             0.000063\n",
      "crew_age        0.003480\n",
      "flight_hours    0.027947\n",
      "Name: 0, dtype: float64\n",
      "Accuracy Score: 0.142 \n",
      "\n",
      "Epoch 18 Cost is: 0.0071637777821058676 \n",
      " Weights:\n",
      " x_0             0.000066\n",
      "crew_age        0.003646\n",
      "flight_hours    0.027927\n",
      "Name: 0, dtype: float64\n",
      "Accuracy Score: 0.142 \n",
      "\n",
      "Epoch 19 Cost is: 0.00713586037466363 \n",
      " Weights:\n",
      " x_0             0.000069\n",
      "crew_age        0.003813\n",
      "flight_hours    0.027908\n",
      "Name: 0, dtype: float64\n",
      "Accuracy Score: 0.142 \n",
      "\n"
     ]
    }
   ],
   "source": [
    "# same length as previous matrices\n",
    "# y intercept is the b, must have one additional and add to x column of 1s\n",
    "# logistic reg and support vector having 1 additional \n",
    "# ex 16 or 16 1\n",
    "weights = np.zeros(3)\n",
    "\n",
    "# Now we optimize it using Gradient Descent. \n",
    "num_iterations = 20\n",
    "learning_rate = 0.001\n",
    "regularization = 0.01\n",
    "\n",
    "cost_list = []\n",
    "\n",
    "for i in range(0, num_iterations):\n",
    "    \n",
    "    # current iteration cost\n",
    "    cost = compute_cost(X_train, Y_train, weights, regularization)\n",
    "    \n",
    "    print(\"Epoch\", i, \"Cost is:\", cost, \"\\n\", \"Weights:\\n\", weights)\n",
    "    print(\"Accuracy Score:\", accuracy_score(Y_test, predict_svm(weights, X_test)), \"\\n\")\n",
    "    \n",
    "    # appending current iteration cost\n",
    "    cost_list.append(cost)\n",
    "    \n",
    "    # gradient descent (optimization)\n",
    "    grad = calculate_gradient(X_train, Y_train, weights, regularization)\n",
    "    \n",
    "    # updating the weights\n",
    "    weights = weights - learning_rate * grad"
   ]
  },
  {
   "cell_type": "code",
   "execution_count": 143,
   "metadata": {
    "scrolled": true
   },
   "outputs": [
    {
     "data": {
      "image/png": "[encoded data removed]",
      "text/plain": [
       "<Figure size 432x288 with 1 Axes>"
      ]
     },
     "metadata": {
      "needs_background": "light"
     },
     "output_type": "display_data"
    }
   ],
   "source": [
    "# plot cost per iteration\n",
    "plt.plot(np.arange(num_iterations), cost_list)\n",
    "plt.show()"
   ]
  },
  {
   "cell_type": "code",
   "execution_count": 144,
   "metadata": {},
   "outputs": [
    {
     "name": "stdout",
     "output_type": "stream",
     "text": [
      "Accuracy Score: 14.2 %\n",
      "              precision    recall  f1-score   support\n",
      "\n",
      "           0       0.00      0.00      0.00       304\n",
      "           1       0.14      1.00      0.25        71\n",
      "           2       0.00      0.00      0.00        52\n",
      "           3       0.00      0.00      0.00        73\n",
      "\n",
      "    accuracy                           0.14       500\n",
      "   macro avg       0.04      0.25      0.06       500\n",
      "weighted avg       0.02      0.14      0.04       500\n",
      "\n"
     ]
    },
    {
     "name": "stderr",
     "output_type": "stream",
     "text": [
      "C:\\Users\\joshu\\AppData\\Local\\Packages\\PythonSoftwareFoundation.Python.3.8_qbz5n2kfra8p0\\LocalCache\\local-packages\\Python38\\site-packages\\sklearn\\metrics\\_classification.py:1308: UndefinedMetricWarning: Precision and F-score are ill-defined and being set to 0.0 in labels with no predicted samples. Use `zero_division` parameter to control this behavior.\n",
      "  _warn_prf(average, modifier, msg_start, len(result))\n",
      "C:\\Users\\joshu\\AppData\\Local\\Packages\\PythonSoftwareFoundation.Python.3.8_qbz5n2kfra8p0\\LocalCache\\local-packages\\Python38\\site-packages\\sklearn\\metrics\\_classification.py:1308: UndefinedMetricWarning: Precision and F-score are ill-defined and being set to 0.0 in labels with no predicted samples. Use `zero_division` parameter to control this behavior.\n",
      "  _warn_prf(average, modifier, msg_start, len(result))\n",
      "C:\\Users\\joshu\\AppData\\Local\\Packages\\PythonSoftwareFoundation.Python.3.8_qbz5n2kfra8p0\\LocalCache\\local-packages\\Python38\\site-packages\\sklearn\\metrics\\_classification.py:1308: UndefinedMetricWarning: Precision and F-score are ill-defined and being set to 0.0 in labels with no predicted samples. Use `zero_division` parameter to control this behavior.\n",
      "  _warn_prf(average, modifier, msg_start, len(result))\n"
     ]
    }
   ],
   "source": [
    "print(\"Accuracy Score:\", accuracy_score(Y_test, predict_svm(weights, X_test)) *100, '%')\n",
    "\n",
    "print(classification_report(Y_test, predict_svm(weights, X_test)))"
   ]
  },
  {
   "cell_type": "code",
   "execution_count": null,
   "metadata": {},
   "outputs": [],
   "source": []
  }
 ],
 "metadata": {
  "kernelspec": {
   "display_name": "Python 3",
   "language": "python",
   "name": "python3"
  },
  "language_info": {
   "codemirror_mode": {
    "name": "ipython",
    "version": 3
   },
   "file_extension": ".py",
   "mimetype": "text/x-python",
   "name": "python",
   "nbconvert_exporter": "python",
   "pygments_lexer": "ipython3",
   "version": "3.8.10"
  }
 },
 "nbformat": 4,
 "nbformat_minor": 2
}
