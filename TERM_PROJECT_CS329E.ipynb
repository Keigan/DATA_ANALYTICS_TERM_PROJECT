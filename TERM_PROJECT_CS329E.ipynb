{
 "cells": [
  {
   "cell_type": "markdown",
   "metadata": {},
   "source": [
    "Term Project - CS329E"
   ]
  },
  {
   "cell_type": "markdown",
   "metadata": {},
   "source": [
    "1 Description"
   ]
  },
  {
   "cell_type": "markdown",
   "metadata": {},
   "source": [
    "The goal of this project assignment is to develop a data analytics project using a real-world\n",
    "dataset. Students should select a public dataset, think about a research project, for example,\n",
    "t-test, two-sample hypothesis tests, regression models, classification, clustering, or any data\n",
    "analytic task, implement the data model (using libraries or without libraries), evaluate, and\n",
    "interpret the results. You can apply more than one data model."
   ]
  },
  {
   "cell_type": "markdown",
   "metadata": {},
   "source": [
    "2 Public Dataset List"
   ]
  },
  {
   "cell_type": "markdown",
   "metadata": {},
   "source": [
    "Select a data set from the available public datasets.\n",
    "You can find a list of such public data sets here:\n",
    "http://www.teymourian.de/public-data-sets-for-data-analytic-projects/)\n",
    "    \n",
    "• The data set must not be very Large.\n",
    "\n",
    "• You can reuse one of the assignment data sets."
   ]
  },
  {
   "cell_type": "markdown",
   "metadata": {},
   "source": [
    "3 Define a Project (4 Points)"
   ]
  },
  {
   "cell_type": "markdown",
   "metadata": {},
   "source": [
    "Define a data science research question based on the selected dataset. You can select one of\n",
    "the listed datasets or search on the web, and pick up one of the available public datasets.\n",
    "You should describe the following items:"
   ]
  },
  {
   "cell_type": "markdown",
   "metadata": {},
   "source": [
    "1. What is your data set about?"
   ]
  },
  {
   "cell_type": "markdown",
   "metadata": {},
   "source": [
    "2. Clean up your data and reduce it to no more than 2000 observations if your data set is\n",
    "very large."
   ]
  },
  {
   "cell_type": "markdown",
   "metadata": {},
   "source": [
    "3. What is exactly your research question? What do you want to learn from data? What\n",
    "is your learning model ,e.g., a Classification, Clustering, etc?"
   ]
  },
  {
   "cell_type": "markdown",
   "metadata": {},
   "source": [
    "4. What is your current exception about the results?"
   ]
  },
  {
   "cell_type": "markdown",
   "metadata": {},
   "source": [
    "5. How do you want to evaluate your project? How to access the correctness of your\n",
    "model? How well would you expect that the model will work?"
   ]
  },
  {
   "cell_type": "markdown",
   "metadata": {},
   "source": [
    "4 Implementation (6 Points)"
   ]
  },
  {
   "cell_type": "markdown",
   "metadata": {},
   "source": [
    "• You need to implement your project in python. You are allowed to use any Machine\n",
    "Learning Library like scikit-learn1. You are also allowed to implement your project\n",
    "without using any libraries.\n",
    "\n",
    "• You can use Jupyter Notebooks to implement your project and provide your documen-\n",
    "tations.\n",
    "\n",
    "• You code should be completed and be compilable without any errors. We should be\n",
    "able to read your documents, and be able to run your project.\n",
    "\n",
    "• Run your implementation (on your Laptop or on Cluster if data is large) and generate\n",
    "the results.\n",
    "• Provide the interpretations of your results.\n",
    "• What can you do to improve your results? Apply your ideas to improve your results.\n",
    "• Provide any references that you have used."
   ]
  },
  {
   "cell_type": "markdown",
   "metadata": {},
   "source": [
    "5 Create Recorded Presentation Video of your Project (5 Points)"
   ]
  },
  {
   "cell_type": "markdown",
   "metadata": {},
   "source": [
    "• Create a document or a presentation (You can create a presentation using your Jupyter\n",
    "notebook, or create a powerpoint presentation, or other formats) to describe your\n",
    "project and results\n",
    "\n",
    "• Describe your code.\n",
    "\n",
    "• Describe the results of your project in a professional way.\n",
    "\n",
    "• You may want to visualization diagrams and describe the results based on some dia-\n",
    "grams - but having diagrams is not a MUST have to get the full credit.\n",
    "\n",
    "• Describe the model and results of your project in a way that every person in this field\n",
    "can read, enjoy and understand.\n",
    "Record your presentation in form of a video recording. Present your talk on your laptop\n",
    "computer and record it using a desktop recording software.\n",
    "You should use your webcam so that we can identify who is presenter.\n",
    "You have the following 3 options to create a presentation video:\n",
    "\n",
    "• Method 1: You can use the Panopto Deskop Recorder. You can find this software\n",
    "and documentations here https://www.panopto.com/.\n",
    "\n",
    "• Method 2: You can record your presentation using ZOOM client application, start\n",
    "your zoom client, start a zoom meeting (you will be the only participant), click on\n",
    "share your desktop, turn on camera and record your presentation, end the zoom session\n",
    "and you will get a MP4 video file of your presentation. Upload the file to Blackboard\n",
    "system.\n",
    "\n",
    "• Method 3: Alternatively, you can use any desktop recording software, generate a MP4\n",
    "file and upload MP4 to blackboard, or upload it to some other cloud storage (like google\n",
    "Drive, DropBox) and share with us the URL Link of your presentation (submit the link\n",
    "in Blackboard).\n",
    "\n",
    "Note 1: Your video presentation should be between 8 minutes to maximum 15 minutes\n",
    "long (Min 8 mi, Max 15 min)\n",
    "\n",
    "Note 2: You should turn on your Web Camera so that we can see your face during the\n",
    "presentation, and be able to identify the presenter.\n",
    "Grading will be based on quality of your presentation, and correct describing of algorithms\n",
    "or concepts."
   ]
  },
  {
   "cell_type": "code",
   "execution_count": 1,
   "metadata": {},
   "outputs": [
    {
     "name": "stdout",
     "output_type": "stream",
     "text": [
      "hello\n"
     ]
    }
   ],
   "source": []
  }
 ],
 "metadata": {
  "kernelspec": {
   "display_name": "Python 3",
   "language": "python",
   "name": "python3"
  },
  "language_info": {
   "codemirror_mode": {
    "name": "ipython",
    "version": 3
   },
   "file_extension": ".py",
   "mimetype": "text/x-python",
   "name": "python",
   "nbconvert_exporter": "python",
   "pygments_lexer": "ipython3",
   "version": "3.8.10"
  }
 },
 "nbformat": 4,
 "nbformat_minor": 2
}
