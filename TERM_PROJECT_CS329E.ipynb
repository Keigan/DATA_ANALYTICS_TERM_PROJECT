{
 "cells": [
  {
   "cell_type": "markdown",
   "metadata": {},
   "source": [
    "# Term Project - CS329E\n",
    "#### University Of Texas at Austin\n",
    "#### 30 November 2021 \n",
    "#### Contributors: Keigan Kincaid  and Joshua Oh "
   ]
  },
  {
   "cell_type": "markdown",
   "metadata": {},
   "source": [
    "## Research Question:\n",
    "## Is it possible to develop an accurate classifier that determines severity of injury for fixed wing aircraft incidents?"
   ]
  },
  {
   "attachments": {},
   "cell_type": "markdown",
   "metadata": {},
   "source": [
    "### What is our dataset about?\n",
    "\n",
    "The NTSB aviation accident database contains information from 1962 and later about civil aviation accidents and selected incidents within the United States, its territories, and possessions, and in international waters. \n",
    "\n",
    "A preliminary report is available online within a few days of an accident. Information is added when available, and when the investigation is completed, the preliminary report is replaced with a final description of the accident and its probable cause. The dataset is updated monthly in Microsoft Access 2000 MDB format. \n",
    "\n",
    "For this project we decided to use a version of the dataset only including incidents from 2008 to the Present. Our decision for this was largely because the datasets before 2008 did not distinguish whether the event represented the pilot controlling the aircraft at the time or whether the event index was associate with co-pilots, crew, or passengers’ injuries or related statistics.\n",
    "\n",
    "To appropriately address our research question and reduce our sample size from over 100,000 events to around 8000. The dataset was originally cleaned via Excel in the Microsoft Access 2000 MDB format. From there we selected the appropriate variables and compiled them into a single Excel file where we were able to remove repeats, and null values. Finally, we saved this subset of the original Microsoft Access Database in a CSV format.\n"
   ]
  },
  {
   "attachments": {},
   "cell_type": "markdown",
   "metadata": {},
   "source": [
    "### Information Regarding Data Cleaning\n",
    "\n",
    "As our dataset was around 8000 observations, we utilized a randomized sample of 2000 observations. We then split this sample into an 75-25 split to test and train our classifiers."
   ]
  },
  {
   "attachments": {},
   "cell_type": "markdown",
   "metadata": {},
   "source": [
    "### Research Question, What we hope to learn from data, and Learning models implemented\n",
    "\n",
    "Research Question: Is it possible to develop an accurate classifier that determines severity of injury for fixed wing aircraft incidents?\n",
    "\n",
    "In this study, we hope to create a model that can classify injury level based upon pilot age (measured in years), and experience (measured in flight hours).\n",
    "\n",
    "It is important to note that flight hours are measured by the number of hours a pilot has been operating an aircraft, which is kept in a log and verified in annual inspections by a third party to ensure the airworthiness of the vehicle, along with its pilot. Further hours may be logged while completing training exercises as a co-pilot or with guided instruction for a CFI (Certified Flight Instructor.) \n",
    "\n",
    "Time logged in simulators or ground school are not included in pilot flight hours. In this study we are looking to use an industry standard classifier (the SVM) to help predict pilot crash severity. The four classifiers we will be using are Logistric Regression, SVM SVC, SVM SVC Linear Regression, and a Gradient Descent/Hinge Loss function without using libraries."
   ]
  },
  {
   "attachments": {},
   "cell_type": "markdown",
   "metadata": {},
   "source": [
    "### Expectations Regarding Results Prior to Study\n",
    "\n",
    "Generally, we expect that younger pilots with less hours will be more reckless than those with more experience and more time in the cockpit. This inexperience is a key factor in why we believe these pilots will be responsible for a larger portion of fixed wing aviation incidents."
   ]
  },
  {
   "attachments": {},
   "cell_type": "markdown",
   "metadata": {},
   "source": [
    "#### How we would like our project to be evaluated, How to assess correctness of our models, Thoughts on our models success prior to study\n",
    "\n",
    "It is important to consider that we are only using two features to classify these events. That being Flight Hours and Age. There are many more features that play a part in aviation incidents which could contribute to aviation incidents.\n",
    "\n",
    "We expect our model to perform better than a random chance algorithm, that is 51% or better. We do not expect there to be a large difference in the implementations, however we do believe that our dataset is not perfect. For future research, it could be useful to compare other models and include more features. Adding more features may improve the accuracy of our models, avoiding blatant representations such as engine failure, severe weather conditions, or drug/alcohol use."
   ]
  },
  {
   "cell_type": "markdown",
   "metadata": {},
   "source": [
    "### Results\n",
    "\n",
    "Our final results show that with Logistic Regression and the standard Sci-Kit Learn SVM SVC, we have an accurary ~ 50%, while our Linear SVM SVC has an accurary slightly > 50%, and SVM without libraries struggles to reach an accuracy score over 10-15%."
   ]
  },
  {
   "cell_type": "markdown",
   "metadata": {},
   "source": [
    "### What can you do to improve your results? What are limitations of your implementations or dataset?\n",
    "\n",
    "We believe cleaning and analyzing the data would improve the results. We believe there are outliers in the data that are lowering our model's accuracy. Furthermore, there are limited amounts of features that we used to develop our classifier. Looking into the NTSB Aviation Accident Database and picking more correlating features may help to improve our model. Additionally, many of the outliers in our data are present due to deciding to keep both private and commercial flight data in our dataset. Splitting these data groups up may also help to improve our model. "
   ]
  },
  {
   "cell_type": "markdown",
   "metadata": {},
   "source": [
    "### Ideas Applied to improve results:\n",
    "\n",
    "We decided to utilize Linear SVM SVC because it is more accurate for larger datasets. We can observe that this particular model was more accurate than the other models implemented."
   ]
  },
  {
   "cell_type": "markdown",
   "metadata": {},
   "source": [
    "### Describe Code and Implementations:\n",
    "\n",
    "Our code and implementations are commented below."
   ]
  },
  {
   "cell_type": "markdown",
   "metadata": {},
   "source": [
    "### References: \n",
    "\n",
    "NTSB Aviation Accident Database:\n",
    "https://data.ntsb.gov/avdata"
   ]
  },
  {
   "cell_type": "code",
   "execution_count": 20,
   "metadata": {},
   "outputs": [],
   "source": [
    "import pandas as pd\n",
    "import numpy as np\n",
    "import matplotlib.pyplot as plt\n",
    "from sklearn.model_selection import train_test_split\n",
    "from sklearn import svm\n",
    "from sklearn.linear_model import LogisticRegression\n",
    "from sklearn.metrics import accuracy_score\n",
    "from sklearn.metrics import classification_report\n",
    "from sklearn.utils import shuffle\n",
    "\n",
    "# Enable inline mode for matplotlib so that Jupyter displays graphs\n",
    "%matplotlib inline"
   ]
  },
  {
   "cell_type": "code",
   "execution_count": 21,
   "metadata": {},
   "outputs": [],
   "source": [
    "# loading in our crash data then shuffle the dataset so that it is difference each time we run the code\n",
    "crash_df_raw = pd.read_csv('crash_Dataset.csv')\n",
    "\n",
    "# shuffle feature, turn off for testing\n",
    "crash_df_raw = shuffle(crash_df_raw)"
   ]
  },
  {
   "cell_type": "code",
   "execution_count": 22,
   "metadata": {},
   "outputs": [
    {
     "data": {
      "text/html": [
       "<div>\n",
       "<style scoped>\n",
       "    .dataframe tbody tr th:only-of-type {\n",
       "        vertical-align: middle;\n",
       "    }\n",
       "\n",
       "    .dataframe tbody tr th {\n",
       "        vertical-align: top;\n",
       "    }\n",
       "\n",
       "    .dataframe thead th {\n",
       "        text-align: right;\n",
       "    }\n",
       "</style>\n",
       "<table border=\"1\" class=\"dataframe\">\n",
       "  <thead>\n",
       "    <tr style=\"text-align: right;\">\n",
       "      <th></th>\n",
       "      <th>ev_id</th>\n",
       "      <th>crew_age</th>\n",
       "      <th>crew_inj_level</th>\n",
       "      <th>flight_hours</th>\n",
       "    </tr>\n",
       "  </thead>\n",
       "  <tbody>\n",
       "    <tr>\n",
       "      <th>4908</th>\n",
       "      <td>20170222X85459</td>\n",
       "      <td>54</td>\n",
       "      <td>0</td>\n",
       "      <td>241.0</td>\n",
       "    </tr>\n",
       "    <tr>\n",
       "      <th>3395</th>\n",
       "      <td>20151001X95137</td>\n",
       "      <td>30</td>\n",
       "      <td>0</td>\n",
       "      <td>2.0</td>\n",
       "    </tr>\n",
       "    <tr>\n",
       "      <th>2701</th>\n",
       "      <td>20150414X13339</td>\n",
       "      <td>64</td>\n",
       "      <td>0</td>\n",
       "      <td>0.0</td>\n",
       "    </tr>\n",
       "    <tr>\n",
       "      <th>2841</th>\n",
       "      <td>20150527X24117</td>\n",
       "      <td>51</td>\n",
       "      <td>3</td>\n",
       "      <td>4.0</td>\n",
       "    </tr>\n",
       "    <tr>\n",
       "      <th>5007</th>\n",
       "      <td>20170317X82510</td>\n",
       "      <td>67</td>\n",
       "      <td>3</td>\n",
       "      <td>3950.0</td>\n",
       "    </tr>\n",
       "    <tr>\n",
       "      <th>...</th>\n",
       "      <td>...</td>\n",
       "      <td>...</td>\n",
       "      <td>...</td>\n",
       "      <td>...</td>\n",
       "    </tr>\n",
       "    <tr>\n",
       "      <th>1264</th>\n",
       "      <td>20131223X02611</td>\n",
       "      <td>67</td>\n",
       "      <td>0</td>\n",
       "      <td>3000.0</td>\n",
       "    </tr>\n",
       "    <tr>\n",
       "      <th>1681</th>\n",
       "      <td>20140602X61515</td>\n",
       "      <td>63</td>\n",
       "      <td>1</td>\n",
       "      <td>750.0</td>\n",
       "    </tr>\n",
       "    <tr>\n",
       "      <th>4243</th>\n",
       "      <td>20160711X54618</td>\n",
       "      <td>49</td>\n",
       "      <td>2</td>\n",
       "      <td>2.0</td>\n",
       "    </tr>\n",
       "    <tr>\n",
       "      <th>823</th>\n",
       "      <td>20130702X60428</td>\n",
       "      <td>52</td>\n",
       "      <td>0</td>\n",
       "      <td>1362.0</td>\n",
       "    </tr>\n",
       "    <tr>\n",
       "      <th>1323</th>\n",
       "      <td>20131230X91706</td>\n",
       "      <td>23</td>\n",
       "      <td>1</td>\n",
       "      <td>222.0</td>\n",
       "    </tr>\n",
       "  </tbody>\n",
       "</table>\n",
       "<p>2000 rows × 4 columns</p>\n",
       "</div>"
      ],
      "text/plain": [
       "               ev_id  crew_age  crew_inj_level  flight_hours\n",
       "4908  20170222X85459        54               0         241.0\n",
       "3395  20151001X95137        30               0           2.0\n",
       "2701  20150414X13339        64               0           0.0\n",
       "2841  20150527X24117        51               3           4.0\n",
       "5007  20170317X82510        67               3        3950.0\n",
       "...              ...       ...             ...           ...\n",
       "1264  20131223X02611        67               0        3000.0\n",
       "1681  20140602X61515        63               1         750.0\n",
       "4243  20160711X54618        49               2           2.0\n",
       "823   20130702X60428        52               0        1362.0\n",
       "1323  20131230X91706        23               1         222.0\n",
       "\n",
       "[2000 rows x 4 columns]"
      ]
     },
     "execution_count": 22,
     "metadata": {},
     "output_type": "execute_result"
    }
   ],
   "source": [
    "# taking the first 2000 observations from the shuffled dataset\n",
    "crash_df = crash_df_raw.head(n=2000)\n",
    "crash_df"
   ]
  },
  {
   "cell_type": "markdown",
   "metadata": {},
   "source": [
    "## Observing Data Distributions"
   ]
  },
  {
   "cell_type": "code",
   "execution_count": 23,
   "metadata": {},
   "outputs": [
    {
     "data": {
      "image/png": "[encoded data removed]",
      "text/plain": [
       "<Figure size 432x288 with 1 Axes>"
      ]
     },
     "metadata": {
      "needs_background": "light"
     },
     "output_type": "display_data"
    }
   ],
   "source": [
    "# plot crew_age distribution\n",
    "plt.hist(crash_df['crew_age'], facecolor='b', alpha=0.50)\n",
    "plt.xlabel('Crew Age')\n",
    "plt.ylabel('Frequency')\n",
    "plt.title('Age Distribution')\n",
    "plt.grid(True)"
   ]
  },
  {
   "cell_type": "code",
   "execution_count": 24,
   "metadata": {},
   "outputs": [
    {
     "data": {
      "image/png": "[encoded data removed]",
      "text/plain": [
       "<Figure size 432x288 with 1 Axes>"
      ]
     },
     "metadata": {
      "needs_background": "light"
     },
     "output_type": "display_data"
    }
   ],
   "source": [
    "# plot crew_inj_level distribution\n",
    "plt.hist(crash_df['crew_inj_level'], facecolor='b', alpha=0.50)\n",
    "plt.xlabel('Injuries')\n",
    "plt.ylabel('Frequency')\n",
    "plt.title('Injury Distribution')\n",
    "plt.grid(True)\n",
    "\n",
    "# Injury Levels\n",
    "    # 0 --> None\n",
    "    # 1 --> Minor \n",
    "    # 2 --> Severe\n",
    "    # 3 --> Fatal"
   ]
  },
  {
   "cell_type": "code",
   "execution_count": 25,
   "metadata": {},
   "outputs": [
    {
     "data": {
      "image/png": "[encoded data removed]",
      "text/plain": [
       "<Figure size 432x288 with 1 Axes>"
      ]
     },
     "metadata": {
      "needs_background": "light"
     },
     "output_type": "display_data"
    }
   ],
   "source": [
    "# plot flight_hours distribution\n",
    "plt.hist(crash_df['flight_hours'], facecolor='b', alpha=0.50)\n",
    "plt.xlabel('Flight Hours')\n",
    "plt.ylabel('Frequency')\n",
    "plt.title('Flight Hours Distribution')\n",
    "plt.grid(True)\n",
    "\n",
    "# data range for flight hours is massive, can result in unreadable histogram"
   ]
  },
  {
   "cell_type": "code",
   "execution_count": 26,
   "metadata": {},
   "outputs": [
    {
     "name": "stdout",
     "output_type": "stream",
     "text": [
      "999.35545025596\n"
     ]
    },
    {
     "data": {
      "image/png": "[encoded data removed]",
      "text/plain": [
       "<Figure size 432x288 with 1 Axes>"
      ]
     },
     "metadata": {
      "needs_background": "light"
     },
     "output_type": "display_data"
    }
   ],
   "source": [
    "# plot flight_hours distribution zoomed in\n",
    "plt.hist(crash_df['flight_hours'], bins=2000, facecolor='b', alpha=0.50)\n",
    "plt.xlabel('Flight Hours')\n",
    "plt.ylabel('Frequency')\n",
    "plt.xlim(0, 10000)\n",
    "plt.title('Flight Hours Distribution (Zoomed In)')\n",
    "plt.grid(True)\n",
    "\n",
    "# identifying the average flight hour value\n",
    "print(np.mean(crash_df['flight_hours']))"
   ]
  },
  {
   "cell_type": "markdown",
   "metadata": {},
   "source": [
    "## Splitting Dataset"
   ]
  },
  {
   "cell_type": "code",
   "execution_count": 27,
   "metadata": {},
   "outputs": [
    {
     "name": "stdout",
     "output_type": "stream",
     "text": [
      "(1500, 2)\n",
      "(1500,)\n",
      "(500, 2)\n",
      "(500,)\n"
     ]
    }
   ],
   "source": [
    "# splitting into features and targets, X and Y respectively\n",
    "X = crash_df[['crew_age', 'flight_hours']]\n",
    "Y = crash_df['crew_inj_level']\n",
    "\n",
    "# splitting the data into testing and training sets\n",
    "X_train, X_test, Y_train, Y_test = train_test_split(X, Y, test_size=0.25, random_state=512)\n",
    "\n",
    "# re-indexing in dataframe\n",
    "X_train = X_train.reset_index(drop=True)\n",
    "Y_train = Y_train.reset_index(drop=True)\n",
    "\n",
    "# printing shapes of Target training and test data\n",
    "print(X_train.shape)\n",
    "print(Y_train.shape)\n",
    "print(X_test.shape)\n",
    "print(Y_test.shape)"
   ]
  },
  {
   "cell_type": "markdown",
   "metadata": {},
   "source": [
    "## Logistic Regression"
   ]
  },
  {
   "cell_type": "code",
   "execution_count": 28,
   "metadata": {},
   "outputs": [
    {
     "name": "stdout",
     "output_type": "stream",
     "text": [
      "Accuracy Score: 0.536 \n",
      "\n",
      "              precision    recall  f1-score   support\n",
      "\n",
      "           0       0.54      0.98      0.69       266\n",
      "           1       0.00      0.00      0.00        92\n",
      "           2       0.00      0.00      0.00        51\n",
      "           3       0.50      0.07      0.12        91\n",
      "\n",
      "    accuracy                           0.54       500\n",
      "   macro avg       0.26      0.26      0.20       500\n",
      "weighted avg       0.38      0.54      0.39       500\n",
      "\n"
     ]
    },
    {
     "name": "stderr",
     "output_type": "stream",
     "text": [
      "C:\\Users\\joshu\\AppData\\Local\\Packages\\PythonSoftwareFoundation.Python.3.8_qbz5n2kfra8p0\\LocalCache\\local-packages\\Python38\\site-packages\\sklearn\\linear_model\\_logistic.py:814: ConvergenceWarning: lbfgs failed to converge (status=1):\n",
      "STOP: TOTAL NO. of ITERATIONS REACHED LIMIT.\n",
      "\n",
      "Increase the number of iterations (max_iter) or scale the data as shown in:\n",
      "    https://scikit-learn.org/stable/modules/preprocessing.html\n",
      "Please also refer to the documentation for alternative solver options:\n",
      "    https://scikit-learn.org/stable/modules/linear_model.html#logistic-regression\n",
      "  n_iter_i = _check_optimize_result(\n",
      "C:\\Users\\joshu\\AppData\\Local\\Packages\\PythonSoftwareFoundation.Python.3.8_qbz5n2kfra8p0\\LocalCache\\local-packages\\Python38\\site-packages\\sklearn\\metrics\\_classification.py:1308: UndefinedMetricWarning: Precision and F-score are ill-defined and being set to 0.0 in labels with no predicted samples. Use `zero_division` parameter to control this behavior.\n",
      "  _warn_prf(average, modifier, msg_start, len(result))\n",
      "C:\\Users\\joshu\\AppData\\Local\\Packages\\PythonSoftwareFoundation.Python.3.8_qbz5n2kfra8p0\\LocalCache\\local-packages\\Python38\\site-packages\\sklearn\\metrics\\_classification.py:1308: UndefinedMetricWarning: Precision and F-score are ill-defined and being set to 0.0 in labels with no predicted samples. Use `zero_division` parameter to control this behavior.\n",
      "  _warn_prf(average, modifier, msg_start, len(result))\n",
      "C:\\Users\\joshu\\AppData\\Local\\Packages\\PythonSoftwareFoundation.Python.3.8_qbz5n2kfra8p0\\LocalCache\\local-packages\\Python38\\site-packages\\sklearn\\metrics\\_classification.py:1308: UndefinedMetricWarning: Precision and F-score are ill-defined and being set to 0.0 in labels with no predicted samples. Use `zero_division` parameter to control this behavior.\n",
      "  _warn_prf(average, modifier, msg_start, len(result))\n"
     ]
    }
   ],
   "source": [
    "model = LogisticRegression(C=.01)\n",
    "model.fit(X_train, Y_train)\n",
    "\n",
    "y_pred = model.predict(X_test)\n",
    "\n",
    "print(\"Accuracy Score:\", accuracy_score(Y_test, y_pred), \"\\n\")\n",
    "\n",
    "print(classification_report(Y_test, y_pred))"
   ]
  },
  {
   "cell_type": "markdown",
   "metadata": {},
   "source": [
    "## Implementation of SVM using Libraries"
   ]
  },
  {
   "cell_type": "code",
   "execution_count": 29,
   "metadata": {},
   "outputs": [],
   "source": [
    "model = svm.SVC(C=.01)\n",
    "model.fit(X_train, Y_train)\n",
    "\n",
    "y_pred = model.predict(X_test)"
   ]
  },
  {
   "cell_type": "code",
   "execution_count": 30,
   "metadata": {},
   "outputs": [
    {
     "name": "stdout",
     "output_type": "stream",
     "text": [
      "Accuracy Score: 0.532 \n",
      "\n",
      "              precision    recall  f1-score   support\n",
      "\n",
      "           0       0.53      1.00      0.69       266\n",
      "           1       0.00      0.00      0.00        92\n",
      "           2       0.00      0.00      0.00        51\n",
      "           3       0.00      0.00      0.00        91\n",
      "\n",
      "    accuracy                           0.53       500\n",
      "   macro avg       0.13      0.25      0.17       500\n",
      "weighted avg       0.28      0.53      0.37       500\n",
      "\n"
     ]
    },
    {
     "name": "stderr",
     "output_type": "stream",
     "text": [
      "C:\\Users\\joshu\\AppData\\Local\\Packages\\PythonSoftwareFoundation.Python.3.8_qbz5n2kfra8p0\\LocalCache\\local-packages\\Python38\\site-packages\\sklearn\\metrics\\_classification.py:1308: UndefinedMetricWarning: Precision and F-score are ill-defined and being set to 0.0 in labels with no predicted samples. Use `zero_division` parameter to control this behavior.\n",
      "  _warn_prf(average, modifier, msg_start, len(result))\n",
      "C:\\Users\\joshu\\AppData\\Local\\Packages\\PythonSoftwareFoundation.Python.3.8_qbz5n2kfra8p0\\LocalCache\\local-packages\\Python38\\site-packages\\sklearn\\metrics\\_classification.py:1308: UndefinedMetricWarning: Precision and F-score are ill-defined and being set to 0.0 in labels with no predicted samples. Use `zero_division` parameter to control this behavior.\n",
      "  _warn_prf(average, modifier, msg_start, len(result))\n",
      "C:\\Users\\joshu\\AppData\\Local\\Packages\\PythonSoftwareFoundation.Python.3.8_qbz5n2kfra8p0\\LocalCache\\local-packages\\Python38\\site-packages\\sklearn\\metrics\\_classification.py:1308: UndefinedMetricWarning: Precision and F-score are ill-defined and being set to 0.0 in labels with no predicted samples. Use `zero_division` parameter to control this behavior.\n",
      "  _warn_prf(average, modifier, msg_start, len(result))\n"
     ]
    }
   ],
   "source": [
    "print(\"Accuracy Score:\", accuracy_score(Y_test, y_pred), \"\\n\")\n",
    "\n",
    "print(classification_report(Y_test, y_pred))"
   ]
  },
  {
   "cell_type": "markdown",
   "metadata": {},
   "source": [
    "## Implementation of Linear SVC using Libraries"
   ]
  },
  {
   "cell_type": "code",
   "execution_count": 31,
   "metadata": {},
   "outputs": [
    {
     "name": "stdout",
     "output_type": "stream",
     "text": [
      "Accuracy Score: 0.532\n",
      "              precision    recall  f1-score   support\n",
      "\n",
      "           0       0.53      1.00      0.69       266\n",
      "           1       0.00      0.00      0.00        92\n",
      "           2       0.00      0.00      0.00        51\n",
      "           3       0.00      0.00      0.00        91\n",
      "\n",
      "    accuracy                           0.53       500\n",
      "   macro avg       0.13      0.25      0.17       500\n",
      "weighted avg       0.28      0.53      0.37       500\n",
      "\n"
     ]
    },
    {
     "name": "stderr",
     "output_type": "stream",
     "text": [
      "C:\\Users\\joshu\\AppData\\Local\\Packages\\PythonSoftwareFoundation.Python.3.8_qbz5n2kfra8p0\\LocalCache\\local-packages\\Python38\\site-packages\\sklearn\\svm\\_base.py:1206: ConvergenceWarning: Liblinear failed to converge, increase the number of iterations.\n",
      "  warnings.warn(\n",
      "C:\\Users\\joshu\\AppData\\Local\\Packages\\PythonSoftwareFoundation.Python.3.8_qbz5n2kfra8p0\\LocalCache\\local-packages\\Python38\\site-packages\\sklearn\\metrics\\_classification.py:1308: UndefinedMetricWarning: Precision and F-score are ill-defined and being set to 0.0 in labels with no predicted samples. Use `zero_division` parameter to control this behavior.\n",
      "  _warn_prf(average, modifier, msg_start, len(result))\n",
      "C:\\Users\\joshu\\AppData\\Local\\Packages\\PythonSoftwareFoundation.Python.3.8_qbz5n2kfra8p0\\LocalCache\\local-packages\\Python38\\site-packages\\sklearn\\metrics\\_classification.py:1308: UndefinedMetricWarning: Precision and F-score are ill-defined and being set to 0.0 in labels with no predicted samples. Use `zero_division` parameter to control this behavior.\n",
      "  _warn_prf(average, modifier, msg_start, len(result))\n",
      "C:\\Users\\joshu\\AppData\\Local\\Packages\\PythonSoftwareFoundation.Python.3.8_qbz5n2kfra8p0\\LocalCache\\local-packages\\Python38\\site-packages\\sklearn\\metrics\\_classification.py:1308: UndefinedMetricWarning: Precision and F-score are ill-defined and being set to 0.0 in labels with no predicted samples. Use `zero_division` parameter to control this behavior.\n",
      "  _warn_prf(average, modifier, msg_start, len(result))\n"
     ]
    }
   ],
   "source": [
    "# fit_intercept set to False because data is not necessarily centered\n",
    "model = svm.LinearSVC(C=.01, max_iter=300, fit_intercept=False)\n",
    "model.fit(X_train, Y_train)\n",
    "\n",
    "y_pred = model.predict(X_test)\n",
    "\n",
    "print(\"Accuracy Score:\", accuracy_score(Y_test, y_pred))\n",
    "\n",
    "# from sklearn.metrics import classification_report\n",
    "print(classification_report(Y_test, y_pred))"
   ]
  },
  {
   "cell_type": "markdown",
   "metadata": {},
   "source": [
    "## Implementation of SVM without Libraries"
   ]
  },
  {
   "cell_type": "markdown",
   "metadata": {},
   "source": [
    "### Function Predict SVM for Comparing Accuracy of Classifiers"
   ]
  },
  {
   "cell_type": "code",
   "execution_count": 32,
   "metadata": {},
   "outputs": [],
   "source": [
    "def predict_svm(weights, X):\n",
    "    \"\"\"\n",
    "    Predict the class between 0 and 1 using learned SVM parameters weights.\n",
    "    \"\"\"    \n",
    "    return np.where(np.dot(X, weights)<0, -1, 1)"
   ]
  },
  {
   "cell_type": "code",
   "execution_count": 33,
   "metadata": {},
   "outputs": [],
   "source": [
    "def compute_cost(X, y, W, regularization_factor):\n",
    "    '''This function calculate the hinge loss. Primal Problem in SVM'''\n",
    "    n = X.shape[0]\n",
    "    distances = 1 - y * (np.dot(X, W))\n",
    "    \n",
    "    # This is our max(0, distance). \n",
    "    distances[distances < 0] = 0 \n",
    "    \n",
    "    hinge_loss = regularization_factor * (np.sum(distances) / n)\n",
    "    # This divide by 2 is not important. You can skip doing it \n",
    "    # because we want only to check if this cost is going down or not. \n",
    "    return (1 / 2 * np.dot(W, W) + hinge_loss)"
   ]
  },
  {
   "cell_type": "code",
   "execution_count": 34,
   "metadata": {},
   "outputs": [],
   "source": [
    "def calculate_gradient(X, y, W, regularization_factor):\n",
    "      \n",
    "    if type(y) == np.float64:\n",
    "        y = np.array([y])\n",
    "        X = np.array([X])\n",
    "        \n",
    "    distance = 1 - (y * np.dot(X, W))\n",
    "    \n",
    "    dw = np.zeros(len(W))\n",
    "    \n",
    "    for ind, d in enumerate(distance):\n",
    "        \n",
    "        if (d < 0):\n",
    "            di = W\n",
    "        else:\n",
    "            di = W - (regularization_factor * y[ind] * X.loc[ind])\n",
    "            \n",
    "        dw += di\n",
    "    \n",
    "    dw = dw/len(y)  # average\n",
    "    \n",
    "    return dw"
   ]
  },
  {
   "cell_type": "code",
   "execution_count": 35,
   "metadata": {},
   "outputs": [],
   "source": [
    "# adding column of ones for matrix multiplication (dot product)\n",
    "x_0 = [1]*len(X_train)\n",
    "X_train['x_0'] = x_0\n",
    "X_train = X_train[['x_0', 'crew_age', 'flight_hours']]\n",
    "\n",
    "x_01 = [1]*len(X_test)\n",
    "X_test['x_0'] = x_01\n",
    "X_test = X_test[['x_0', 'crew_age', 'flight_hours']]"
   ]
  },
  {
   "cell_type": "code",
   "execution_count": 36,
   "metadata": {
    "scrolled": true
   },
   "outputs": [
    {
     "name": "stdout",
     "output_type": "stream",
     "text": [
      "Epoch 0 Cost is: 0.01 \n",
      " Weights:\n",
      " [0. 0. 0.]\n",
      "Accuracy Score: 0.184 \n",
      "\n",
      "Epoch 1 Cost is: 0.007688100612484196 \n",
      " Weights:\n",
      " x_0             0.000009\n",
      "crew_age        0.000497\n",
      "flight_hours    0.014584\n",
      "Name: 0, dtype: float64\n",
      "Accuracy Score: 0.184 \n",
      "\n",
      "Epoch 2 Cost is: 0.007638027457250845 \n",
      " Weights:\n",
      " x_0             0.000013\n",
      "crew_age        0.000721\n",
      "flight_hours    0.014587\n",
      "Name: 0, dtype: float64\n",
      "Accuracy Score: 0.184 \n",
      "\n",
      "Epoch 3 Cost is: 0.007588558178502556 \n",
      " Weights:\n",
      " x_0             0.000017\n",
      "crew_age        0.000944\n",
      "flight_hours    0.014590\n",
      "Name: 0, dtype: float64\n",
      "Accuracy Score: 0.184 \n",
      "\n",
      "Epoch 4 Cost is: 0.007539187788842484 \n",
      " Weights:\n",
      " x_0             0.000021\n",
      "crew_age        0.001166\n",
      "flight_hours    0.014592\n",
      "Name: 0, dtype: float64\n",
      "Accuracy Score: 0.184 \n",
      "\n",
      "Epoch 5 Cost is: 0.007490050150298817 \n",
      " Weights:\n",
      " x_0             0.000025\n",
      "crew_age        0.001388\n",
      "flight_hours    0.014595\n",
      "Name: 0, dtype: float64\n",
      "Accuracy Score: 0.184 \n",
      "\n",
      "Epoch 6 Cost is: 0.007441315014919143 \n",
      " Weights:\n",
      " x_0             0.000029\n",
      "crew_age        0.001609\n",
      "flight_hours    0.014598\n",
      "Name: 0, dtype: float64\n",
      "Accuracy Score: 0.184 \n",
      "\n",
      "Epoch 7 Cost is: 0.007393297367862285 \n",
      " Weights:\n",
      " x_0             0.000033\n",
      "crew_age        0.001828\n",
      "flight_hours    0.014600\n",
      "Name: 0, dtype: float64\n",
      "Accuracy Score: 0.184 \n",
      "\n",
      "Epoch 8 Cost is: 0.007346184018520451 \n",
      " Weights:\n",
      " x_0             0.000037\n",
      "crew_age        0.002046\n",
      "flight_hours    0.014601\n",
      "Name: 0, dtype: float64\n",
      "Accuracy Score: 0.184 \n",
      "\n",
      "Epoch 9 Cost is: 0.007300351804566098 \n",
      " Weights:\n",
      " x_0             0.000040\n",
      "crew_age        0.002261\n",
      "flight_hours    0.014602\n",
      "Name: 0, dtype: float64\n",
      "Accuracy Score: 0.184 \n",
      "\n",
      "Epoch 10 Cost is: 0.00725520334829115 \n",
      " Weights:\n",
      " x_0             0.000044\n",
      "crew_age        0.002474\n",
      "flight_hours    0.014603\n",
      "Name: 0, dtype: float64\n",
      "Accuracy Score: 0.184 \n",
      "\n",
      "Epoch 11 Cost is: 0.00721134044103193 \n",
      " Weights:\n",
      " x_0             0.000048\n",
      "crew_age        0.002683\n",
      "flight_hours    0.014603\n",
      "Name: 0, dtype: float64\n",
      "Accuracy Score: 0.184 \n",
      "\n",
      "Epoch 12 Cost is: 0.007167975866120614 \n",
      " Weights:\n",
      " x_0             0.000052\n",
      "crew_age        0.002892\n",
      "flight_hours    0.014602\n",
      "Name: 0, dtype: float64\n",
      "Accuracy Score: 0.184 \n",
      "\n",
      "Epoch 13 Cost is: 0.007124952331948466 \n",
      " Weights:\n",
      " x_0             0.000056\n",
      "crew_age        0.003099\n",
      "flight_hours    0.014601\n",
      "Name: 0, dtype: float64\n",
      "Accuracy Score: 0.184 \n",
      "\n",
      "Epoch 14 Cost is: 0.007082811735442445 \n",
      " Weights:\n",
      " x_0             0.000059\n",
      "crew_age        0.003305\n",
      "flight_hours    0.014600\n",
      "Name: 0, dtype: float64\n",
      "Accuracy Score: 0.184 \n",
      "\n",
      "Epoch 15 Cost is: 0.007042013031006759 \n",
      " Weights:\n",
      " x_0             0.000063\n",
      "crew_age        0.003508\n",
      "flight_hours    0.014599\n",
      "Name: 0, dtype: float64\n",
      "Accuracy Score: 0.184 \n",
      "\n",
      "Epoch 16 Cost is: 0.007002468157214918 \n",
      " Weights:\n",
      " x_0             0.000067\n",
      "crew_age        0.003707\n",
      "flight_hours    0.014597\n",
      "Name: 0, dtype: float64\n",
      "Accuracy Score: 0.184 \n",
      "\n",
      "Epoch 17 Cost is: 0.0069636374621254195 \n",
      " Weights:\n",
      " x_0             0.000070\n",
      "crew_age        0.003904\n",
      "flight_hours    0.014595\n",
      "Name: 0, dtype: float64\n",
      "Accuracy Score: 0.184 \n",
      "\n",
      "Epoch 18 Cost is: 0.006925998902095369 \n",
      " Weights:\n",
      " x_0             0.000074\n",
      "crew_age        0.004100\n",
      "flight_hours    0.014593\n",
      "Name: 0, dtype: float64\n",
      "Accuracy Score: 0.184 \n",
      "\n",
      "Epoch 19 Cost is: 0.0068900014244885335 \n",
      " Weights:\n",
      " x_0             0.000077\n",
      "crew_age        0.004291\n",
      "flight_hours    0.014591\n",
      "Name: 0, dtype: float64\n",
      "Accuracy Score: 0.184 \n",
      "\n"
     ]
    }
   ],
   "source": [
    "# same length as previous matrices\n",
    "# y intercept is the b, must have one additional and add to x column of 1s\n",
    "# logistic reg and support vector having 1 additional \n",
    "# ex 16 or 16 1\n",
    "weights = np.zeros(3)\n",
    "\n",
    "# Now we optimize it using Gradient Descent. \n",
    "num_iterations = 20\n",
    "learning_rate = 0.001\n",
    "regularization = 0.01\n",
    "\n",
    "cost_list = []\n",
    "\n",
    "for i in range(0, num_iterations):\n",
    "    \n",
    "    # current iteration cost\n",
    "    cost = compute_cost(X_train, Y_train, weights, regularization)\n",
    "    \n",
    "    print(\"Epoch\", i, \"Cost is:\", cost, \"\\n\", \"Weights:\\n\", weights)\n",
    "    print(\"Accuracy Score:\", accuracy_score(Y_test, predict_svm(weights, X_test)), \"\\n\")\n",
    "    \n",
    "    # appending current iteration cost\n",
    "    cost_list.append(cost)\n",
    "    \n",
    "    # gradient descent (optimization)\n",
    "    grad = calculate_gradient(X_train, Y_train, weights, regularization)\n",
    "    \n",
    "    # updating the weights\n",
    "    weights = weights - learning_rate * grad"
   ]
  },
  {
   "cell_type": "code",
   "execution_count": 37,
   "metadata": {
    "scrolled": true
   },
   "outputs": [
    {
     "data": {
      "image/png": "[encoded data removed]",
      "text/plain": [
       "<Figure size 432x288 with 1 Axes>"
      ]
     },
     "metadata": {
      "needs_background": "light"
     },
     "output_type": "display_data"
    }
   ],
   "source": [
    "# plot cost per iteration\n",
    "plt.plot(np.arange(num_iterations), cost_list)\n",
    "plt.show()"
   ]
  },
  {
   "cell_type": "code",
   "execution_count": 38,
   "metadata": {},
   "outputs": [
    {
     "name": "stdout",
     "output_type": "stream",
     "text": [
      "Accuracy Score: 18.4 %\n",
      "              precision    recall  f1-score   support\n",
      "\n",
      "           0       0.00      0.00      0.00       266\n",
      "           1       0.18      1.00      0.31        92\n",
      "           2       0.00      0.00      0.00        51\n",
      "           3       0.00      0.00      0.00        91\n",
      "\n",
      "    accuracy                           0.18       500\n",
      "   macro avg       0.05      0.25      0.08       500\n",
      "weighted avg       0.03      0.18      0.06       500\n",
      "\n"
     ]
    },
    {
     "name": "stderr",
     "output_type": "stream",
     "text": [
      "C:\\Users\\joshu\\AppData\\Local\\Packages\\PythonSoftwareFoundation.Python.3.8_qbz5n2kfra8p0\\LocalCache\\local-packages\\Python38\\site-packages\\sklearn\\metrics\\_classification.py:1308: UndefinedMetricWarning: Precision and F-score are ill-defined and being set to 0.0 in labels with no predicted samples. Use `zero_division` parameter to control this behavior.\n",
      "  _warn_prf(average, modifier, msg_start, len(result))\n",
      "C:\\Users\\joshu\\AppData\\Local\\Packages\\PythonSoftwareFoundation.Python.3.8_qbz5n2kfra8p0\\LocalCache\\local-packages\\Python38\\site-packages\\sklearn\\metrics\\_classification.py:1308: UndefinedMetricWarning: Precision and F-score are ill-defined and being set to 0.0 in labels with no predicted samples. Use `zero_division` parameter to control this behavior.\n",
      "  _warn_prf(average, modifier, msg_start, len(result))\n",
      "C:\\Users\\joshu\\AppData\\Local\\Packages\\PythonSoftwareFoundation.Python.3.8_qbz5n2kfra8p0\\LocalCache\\local-packages\\Python38\\site-packages\\sklearn\\metrics\\_classification.py:1308: UndefinedMetricWarning: Precision and F-score are ill-defined and being set to 0.0 in labels with no predicted samples. Use `zero_division` parameter to control this behavior.\n",
      "  _warn_prf(average, modifier, msg_start, len(result))\n"
     ]
    }
   ],
   "source": [
    "print(\"Accuracy Score:\", accuracy_score(Y_test, predict_svm(weights, X_test)) *100, '%')\n",
    "\n",
    "print(classification_report(Y_test, predict_svm(weights, X_test)))"
   ]
  }
 ],
 "metadata": {
  "kernelspec": {
   "display_name": "Python 3",
   "language": "python",
   "name": "python3"
  },
  "language_info": {
   "codemirror_mode": {
    "name": "ipython",
    "version": 3
   },
   "file_extension": ".py",
   "mimetype": "text/x-python",
   "name": "python",
   "nbconvert_exporter": "python",
   "pygments_lexer": "ipython3",
   "version": "3.8.10"
  }
 },
 "nbformat": 4,
 "nbformat_minor": 2
}
